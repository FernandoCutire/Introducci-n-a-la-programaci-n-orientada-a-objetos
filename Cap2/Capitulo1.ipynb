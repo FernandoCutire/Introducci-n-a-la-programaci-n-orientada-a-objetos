{
 "cells": [
  {
   "cell_type": "markdown",
   "metadata": {},
   "source": [
    "# ProblemasPython"
   ]
  },
  {
   "cell_type": "markdown",
   "metadata": {},
   "source": [
    "## Esto es una presentación de los problemas del libro de DLA, y así poder usar las bases de la programación en la solución de los problemas"
   ]
  },
  {
   "cell_type": "markdown",
   "metadata": {},
   "source": [
    "### 1. Escriba una instrucción que lea el nombre, cédula y edad del estudiante.\n"
   ]
  },
  {
   "cell_type": "code",
   "execution_count": 1,
   "metadata": {},
   "outputs": [
    {
     "name": "stdout",
     "output_type": "stream",
     "text": [
      "Ingresa tu nombre Fernando\n",
      "Ingresa tu cedula 8-972-906\n",
      "Ingresa tu edad 17\n"
     ]
    }
   ],
   "source": [
    "nombre = str(input(\"Ingresa tu nombre: \"))\n",
    "cedula = str(input(\"Ingresa tu cedula: \"))\n",
    "edad = int(input(\"Ingresa tu edad: \"))"
   ]
  },
  {
   "cell_type": "markdown",
   "metadata": {},
   "source": [
    "### 2. Escriba una instrucción que imprima el nombre del estudiante"
   ]
  },
  {
   "cell_type": "code",
   "execution_count": 3,
   "metadata": {},
   "outputs": [
    {
     "name": "stdout",
     "output_type": "stream",
     "text": [
      "Ingresa tu nombre: Fernando\n",
      "Tu nombre es: Fernando\n"
     ]
    }
   ],
   "source": [
    "nombre = str(input(\"Ingresa tu nombre: \"))\n",
    "print(\"Tu nombre es:\", nombre)"
   ]
  },
  {
   "cell_type": "markdown",
   "metadata": {},
   "source": [
    "### 3. Escriba una instrucción que imprima el mensaje: UNIVERSIDAD TECNOLÓGICA. \n"
   ]
  },
  {
   "cell_type": "code",
   "execution_count": 4,
   "metadata": {},
   "outputs": [
    {
     "name": "stdout",
     "output_type": "stream",
     "text": [
      "UNIVERSIDAD TECNOLÓGICA\n"
     ]
    }
   ],
   "source": [
    "universidad = \"UNIVERSIDAD TECNOLÓGICA\"\n",
    "print(universidad)"
   ]
  },
  {
   "cell_type": "markdown",
   "metadata": {},
   "source": [
    "### 4. Escriba las instrucciones necesarias para lo siguiente: leer el nombre y dos notas del estudiante, calcular la nota promedio y después imprimir el nombre y la nota promedio."
   ]
  },
  {
   "cell_type": "code",
   "execution_count": 10,
   "metadata": {},
   "outputs": [
    {
     "name": "stdout",
     "output_type": "stream",
     "text": [
      "Ingresa tu nombre: Fernando\n",
      "Ingresa tu primera nota: 100\n",
      "Ingresa tu primera nota: 100\n",
      "Tu nombre es: Fernando\n",
      "100.0\n"
     ]
    }
   ],
   "source": [
    "nombre = str(input(\"Ingresa tu nombre: \"))\n",
    "nota1 = float(input(\"Ingresa tu primera nota: \"))\n",
    "nota2 = float(input(\"Ingresa tu primera nota: \"))\n",
    "promedio = (nota1 + nota2)/2\n",
    "print(\"Tu nombre es:\", nombre)\n",
    "print(promedio)"
   ]
  },
  {
   "cell_type": "code",
   "execution_count": null,
   "metadata": {},
   "outputs": [],
   "source": []
  },
  {
   "cell_type": "code",
   "execution_count": null,
   "metadata": {},
   "outputs": [],
   "source": []
  }
 ],
 "metadata": {
  "kernelspec": {
   "display_name": "Python 3",
   "language": "python",
   "name": "python3"
  },
  "language_info": {
   "codemirror_mode": {
    "name": "ipython",
    "version": 3
   },
   "file_extension": ".py",
   "mimetype": "text/x-python",
   "name": "python",
   "nbconvert_exporter": "python",
   "pygments_lexer": "ipython3",
   "version": "3.6.5"
  }
 },
 "nbformat": 4,
 "nbformat_minor": 2
}
