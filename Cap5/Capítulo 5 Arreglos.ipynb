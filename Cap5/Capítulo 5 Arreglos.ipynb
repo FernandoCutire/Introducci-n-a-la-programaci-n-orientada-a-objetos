{
 "cells": [
  {
   "cell_type": "markdown",
   "metadata": {},
   "source": [
    "# Capítulo 5 Arreglos"
   ]
  },
  {
   "cell_type": "markdown",
   "metadata": {},
   "source": [
    "## Problemas para manejo de vectores\n"
   ]
  },
  {
   "cell_type": "markdown",
   "metadata": {},
   "source": [
    "### 1. Escriba un algoritmo que cargue un vector de 5 elementos; luego sume todos los elementos del vector. Imprima al vector y la suma.\n"
   ]
  },
  {
   "cell_type": "code",
   "execution_count": 1,
   "metadata": {},
   "outputs": [
    {
     "name": "stdout",
     "output_type": "stream",
     "text": [
      "[7, 8, 9, 4, 3]\n",
      "31\n"
     ]
    }
   ],
   "source": [
    "lista = [7,8,9,4,3]\n",
    "suma = sum(lista)\n",
    "\n",
    "print(lista) \n",
    "print(suma)"
   ]
  },
  {
   "cell_type": "markdown",
   "metadata": {},
   "source": [
    "### 2. Dado un conjunto de 50 números enteros, desarrolle los siguientes procesos:\n",
    "#### Cargue en el vector los datos de entrada.\n",
    "#### • Obtenga una sumatoria de todos los números pares almacenados en las posiciones pares del vector.\n",
    "#### • Obtener una sumatoria de todos los números impares almacenados en el vector.\n",
    "#### • Imprimir el vector, ambas sumatorias y un mensaje que defina si las sumatorias son iguales o no."
   ]
  },
  {
   "cell_type": "code",
   "execution_count": 1,
   "metadata": {},
   "outputs": [
    {
     "name": "stdout",
     "output_type": "stream",
     "text": [
      "Escribe un número: 1\n",
      "Escribe un número: 2\n",
      "Escribe un número: 3\n",
      "Escribe un número: 4\n",
      "Escribe un número: 5\n",
      "Escribe un número: 6\n",
      "Escribe un número: 7\n",
      "Escribe un número: 8\n",
      "Escribe un número: 9\n",
      "Escribe un número: 10\n",
      "[1, 2, 3, 4, 5, 6, 7, 8, 9, 10]\n",
      "30\n",
      "25\n",
      "No son iguales\n"
     ]
    }
   ],
   "source": [
    "vector = []\n",
    "n_enteros = 0\n",
    "suma_pares = 0\n",
    "suma_impares = 0\n",
    "\n",
    "for i in range(1,51):\n",
    "    vector.append(int(input(\"Escribe un número: \")))\n",
    "    \n",
    "for i in vector:\n",
    "    if i % 2 ==0:\n",
    "        suma_pares+=i\n",
    "    else:\n",
    "        suma_impares+=i\n",
    "\n",
    "print(vector)\n",
    "print(suma_pares)\n",
    "print(suma_impares)\n",
    "        \n",
    "if suma_pares == suma_impares:\n",
    "    print(\"Son iguales\")\n",
    "else:\n",
    "    print(\"No son iguales\")"
   ]
  },
  {
   "cell_type": "markdown",
   "metadata": {},
   "source": [
    "### 3. Una clase de 35 estudiantes hace un examen; sus calificaciones se almacenan en un vector R. Elabore un algoritmo que encuentre la cantidad de estudiantes con notas perfectas, es decir, calificaciones de 100. Imprima el resultado."
   ]
  },
  {
   "cell_type": "code",
   "execution_count": 21,
   "metadata": {},
   "outputs": [
    {
     "name": "stdout",
     "output_type": "stream",
     "text": [
      "Número de estudiantes:  35\n",
      "Cantidad de estudiantes con notas perfectas:  7\n",
      "Los estudiantes son:  ['Kirán', 'Alejandro', 'Fernando Cutire', 'David', 'Michael', 'Rafael', 'Eduardo Carrera']\n"
     ]
    }
   ],
   "source": [
    "R = {'Alexander':70,'Kirán': 100,\"Ariel\":90,'Priscilla':15,\"Fernando Salazar\":85,\"Alejandro\":100,'Fernando Cutire':100,'William':99,\n",
    "    'Joshua':60,'Johan':80,'Esperanza':50,'Génesis':60,'Luis':80,'David':100,'Jonathan':50,'Jordan':30,'Agustin':88,'Adilem':98,\n",
    "    'Cesar':60,'Daniela':90,'Vicente':59,'Jack':40,'Mara':70,'Melly':56,'Paul':90,'Michael':100,'Paola':15,'Rafael':100,\n",
    "    'Asley':80,'Xochil':40,'Julio':90,'Isaías':10,'Eduardo Carrera':100,'Mathews':10,'Allison':15}\n",
    "notas_perfectas = []\n",
    "\n",
    "\n",
    "print(\"Número de estudiantes: \",len(R))\n",
    "\n",
    "for i in R:\n",
    "    if R[i] == 100:\n",
    "        notas_perfectas.append(i)\n",
    "        \n",
    "print(\"Cantidad de estudiantes con notas perfectas: \",len(notas_perfectas))\n",
    "print(\"Los estudiantes son: \", notas_perfectas)"
   ]
  },
  {
   "cell_type": "markdown",
   "metadata": {},
   "source": [
    "### 4. A partir del planteamiento del problema 3, calcule el promedio de las notas y el número de estudiantes con notas menores que 60. Imprima los resultados."
   ]
  },
  {
   "cell_type": "code",
   "execution_count": 36,
   "metadata": {},
   "outputs": [
    {
     "name": "stdout",
     "output_type": "stream",
     "text": [
      "68.0\n",
      "12\n"
     ]
    }
   ],
   "source": [
    "promedio = 0\n",
    "notas_menores_60 = []\n",
    "\n",
    "for i in R:\n",
    "    promedio+=R[i]\n",
    "    if R[i] < 60:\n",
    "        notas_menores_60.append(i)\n",
    "    \n",
    "promedio = promedio /35\n",
    "\n",
    "print(promedio)\n",
    "print(len(notas_menores_60))"
   ]
  },
  {
   "cell_type": "markdown",
   "metadata": {},
   "source": [
    "### 5. Se tienen las calificaciones de 50 estudiantes. Elabore un algoritmo que calcule el promedio de las calificaciones e imprima todas aquellas notas que sean superiores al promedio. "
   ]
  },
  {
   "cell_type": "code",
   "execution_count": 6,
   "metadata": {},
   "outputs": [
    {
     "name": "stdout",
     "output_type": "stream",
     "text": [
      "Valor promedio:  62.2\n",
      "Notas mayores al promedio:  [70, 100, 90, 85, 100, 100, 99, 80, 80, 100, 88, 98, 90, 70, 90, 100, 100, 80, 90, 100, 80, 100, 80, 100]\n"
     ]
    }
   ],
   "source": [
    "R = {'Alexander':70,'Kirán': 100,\"Ariel\":90,'Priscilla':15,\"Fernando Salazar\":85,\"Alejandro\":100,'Fernando Cutire':100,'William':99,\n",
    "    'Joshua':60,'Johan':80,'Esperanza':50,'Génesis':60,'Luis':80,'David':100,'Jonathan':50,'Jordan':30,'Agustin':88,'Adilem':98,\n",
    "    'Cesar':60,'Daniela':90,'Vicente':59,'Jack':40,'Mara':70,'Melly':56,'Paul':90,'Michael':100,'Paola':15,'Rafael':100,\n",
    "    'Asley':80,'Xochil':40,'Julio':90,'Isaías':10,'Eduardo Carrera':100,'Mathews':10,'Allison':15,'Klemelys':60,'Pablo':60,\n",
    "    'Cianky':50,'Andrés':60,'Karen':10,'Isabella':30,'Verónica':10,'Mateo':30,'José':10,'Joyner':30,'Juan':80,'Micol':100,\n",
    "    'Mariangela':80,'Orlando':20,'Ulises':100}\n",
    "notas_superiores = []\n",
    "\n",
    "promedio = 0\n",
    "\n",
    "for i in R:\n",
    "    promedio+=R[i]\n",
    "promedio = promedio / len(R)\n",
    "for n in R:\n",
    "    if R[n] > 60:\n",
    "        notas_superiores.append(R[n])\n",
    "    \n",
    "\n",
    "print(\"Valor promedio: \", promedio)\n",
    "print(\"Notas mayores al promedio: \",notas_superiores)"
   ]
  },
  {
   "cell_type": "markdown",
   "metadata": {},
   "source": [
    "### 6. Diseñe un algoritmo que lea un conjunto de 50 datos de entrada y cargue una tabla de 100 elementos de manera que cada valor leído quede en la posición par del vector. "
   ]
  },
  {
   "cell_type": "code",
   "execution_count": 12,
   "metadata": {},
   "outputs": [
    {
     "name": "stdout",
     "output_type": "stream",
     "text": [
      "Introduce una entrada: 1\n",
      "Introduce una entrada: 2\n",
      "Introduce una entrada: 3\n",
      "Introduce una entrada: 4\n",
      "Introduce una entrada: 5\n",
      "Introduce una entrada: 6\n",
      "Introduce una entrada: 7\n",
      "Introduce una entrada: 8\n",
      "Introduce una entrada: 9\n",
      "Introduce una entrada: 10\n",
      "Introduce una entrada: 11\n",
      "Introduce una entrada: 12\n",
      "Introduce una entrada: 13\n",
      "Introduce una entrada: 14\n",
      "Introduce una entrada: 15\n",
      "Introduce una entrada: 16\n",
      "Introduce una entrada: 17\n",
      "Introduce una entrada: 18\n",
      "Introduce una entrada: 19\n",
      "Introduce una entrada: 20\n",
      "Introduce una entrada: 21\n",
      "Introduce una entrada: 22\n",
      "Introduce una entrada: 23\n",
      "Introduce una entrada: 2\n",
      "Introduce una entrada: 4\n",
      "Introduce una entrada: 5\n",
      "Introduce una entrada: 6\n",
      "Introduce una entrada: 1\n",
      "Introduce una entrada: f\n",
      "Introduce una entrada: er\n",
      "Introduce una entrada: g\n",
      "Introduce una entrada: d\n",
      "Introduce una entrada: v\n",
      "Introduce una entrada: e\n",
      "Introduce una entrada: t\n",
      "Introduce una entrada: e\n",
      "Introduce una entrada: a\n",
      "Introduce una entrada: l\n",
      "Introduce una entrada: a\n",
      "Introduce una entrada: v\n",
      "Introduce una entrada: e\n",
      "Introduce una entrada: r\n",
      "Introduce una entrada: g\n",
      "Introduce una entrada: a\n",
      "Introduce una entrada: ja\n",
      "Introduce una entrada: j\n",
      "Introduce una entrada: a\n",
      "Introduce una entrada: x\n",
      "Introduce una entrada: d\n",
      "Introduce una entrada: x\n",
      "[' ', '1', ' ', '2', ' ', '3', ' ', '4', ' ', '5', ' ', '6', ' ', '7', ' ', '8', ' ', '9', ' ', '10', ' ', '11', ' ', '12', ' ', '13', ' ', '14', ' ', '15', ' ', '16', ' ', '17', ' ', '18', ' ', '19', ' ', '20', ' ', '21', ' ', '22', ' ', '23', ' ', '2', ' ', '4', ' ', '5', ' ', '6', ' ', '1', ' ', 'f', ' ', 'er', ' ', 'g', ' ', 'd', ' ', 'v', ' ', 'e', ' ', 't', ' ', 'e', ' ', 'a', ' ', 'l', ' ', 'a', ' ', 'v', ' ', 'e', ' ', 'r', ' ', 'g', ' ', 'a', ' ', 'ja', ' ', 'j', ' ', 'a', ' ', 'x', ' ', 'd', ' ', 'x']\n"
     ]
    }
   ],
   "source": [
    "vector = []\n",
    "\n",
    "for i in range(1,51):\n",
    "    vector.append(\" \")\n",
    "    vector.append((input(\"Introduce una entrada: \")))\n",
    "\n",
    "print(vector)"
   ]
  },
  {
   "cell_type": "code",
   "execution_count": 59,
   "metadata": {},
   "outputs": [
    {
     "name": "stdout",
     "output_type": "stream",
     "text": [
      "Introduzca estaturas: 1.40\n",
      "Introduzca estaturas: 1.50\n",
      "Introduzca estaturas: 1.80\n",
      "Introduzca estaturas: 1.40\n",
      "Introduzca estaturas: 1.30\n",
      "Introduzca estaturas: 1.10\n",
      "Introduzca estaturas: 1.20\n",
      "Introduzca estaturas: 1.30\n",
      "Introduzca estaturas: 1.40\n",
      "Introduzca estaturas: 1.50\n",
      "Introduzca estaturas: 1.60\n",
      "Introduzca estaturas: 1.70\n",
      "Introduzca estaturas: 1.80\n",
      "Introduzca estaturas: 1.90\n",
      "Introduzca estaturas: 1.10\n",
      "Introduzca estaturas: 1.20\n",
      "Introduzca estaturas: 1.30\n",
      "Introduzca estaturas: 1.40\n",
      "Introduzca estaturas: 1.45\n",
      "Introduzca estaturas: 1.95\n",
      "1.95\n",
      "19\n"
     ]
    }
   ],
   "source": [
    "vector = []\n",
    "\n",
    "for i in range(1,21):\n",
    "    vector.append(float(input(\"Introduzca estaturas: \")))\n",
    "    \n",
    "a = max(vector)\n",
    "index = vector.index(a)\n",
    "\n",
    "print(\"La estatura del más alto es: \" a)\n",
    "print(\"La posición en que se encuentra es:\"index)"
   ]
  },
  {
   "cell_type": "markdown",
   "metadata": {},
   "source": [
    "### 8. Elabore un algoritmo que cargue un vector de 5 elementos y determine la suma y el producto de todos los elementos del vector. Imprima la suma y el producto."
   ]
  },
  {
   "cell_type": "code",
   "execution_count": 68,
   "metadata": {},
   "outputs": [
    {
     "name": "stdout",
     "output_type": "stream",
     "text": [
      "Introduce los números: 1\n",
      "Introduce los números: 2\n",
      "Introduce los números: 3\n",
      "Introduce los números: 4\n",
      "Introduce los números: 5\n",
      "15\n",
      "120\n"
     ]
    }
   ],
   "source": [
    "vector = []\n",
    "suma = 0\n",
    "producto = 1\n",
    "\n",
    "for i in range(1,6):\n",
    "    vector.append(int(input(\"Introduce los números: \")))\n",
    "for n in vector:\n",
    "    suma+=n\n",
    "    producto*=n\n",
    "\n",
    "print(suma)\n",
    "print(producto)\n"
   ]
  },
  {
   "cell_type": "markdown",
   "metadata": {},
   "source": [
    "### 9. Cree un algoritmo que considere un vector de 100 elementos y luego lea un conjunto de 51 valores y los almacene en el vector. A continuación, debe leerse un valor numérico e investigar el número de veces que el valor leído aparece en el vector. Imprima el valor leído y el número de veces que se repite en el vector."
   ]
  },
  {
   "cell_type": "code",
   "execution_count": 16,
   "metadata": {},
   "outputs": [
    {
     "name": "stdout",
     "output_type": "stream",
     "text": [
      "Introduce tu elemento: 1\n",
      "Introduce tu elemento: 2\n",
      "Introduce tu elemento: 3\n",
      "Introduce tu elemento: 4\n",
      "Introduce tu elemento: 5\n",
      "Introduce tu elemento: 6\n",
      "Introduce tu elemento: 7\n",
      "Introduce tu elemento: 9\n",
      "Introduce tu elemento: 10\n",
      "Introduce tu elemento: 11\n",
      "Introduce tu elemento: 1\n",
      "Introduce tu elemento: 2\n",
      "Introduce tu elemento: 3\n",
      "Introduce tu elemento: 45\n",
      "Introduce tu elemento: 67\n",
      "Introduce tu elemento: 42\n",
      "Introduce tu elemento: 21\n",
      "Introduce tu elemento: 34\n",
      "Introduce tu elemento: 6\n",
      "Introduce tu elemento: 88\n",
      "Introduce tu elemento: 12\n",
      "Introduce tu elemento: 56\n",
      "Introduce tu elemento: 712\n",
      "Introduce tu elemento: 121\n",
      "Introduce tu elemento: 434\n",
      "Introduce tu elemento: 09\n",
      "Introduce tu elemento: 12\n",
      "Introduce tu elemento: 45\n",
      "Introduce tu elemento: 21\n",
      "Introduce tu elemento: 535\n",
      "Introduce tu elemento: 132\n",
      "Introduce tu elemento: 43\n",
      "Introduce tu elemento: 1\n",
      "Introduce tu elemento: 1\n",
      "Introduce tu elemento: 1\n",
      "Introduce tu elemento: 2\n",
      "Introduce tu elemento: 3\n",
      "Introduce tu elemento: 4\n",
      "Introduce tu elemento: 5\n",
      "Introduce tu elemento: 6\n",
      "Introduce tu elemento: 7\n",
      "Introduce tu elemento: 8\n",
      "Introduce tu elemento: 9\n",
      "Introduce tu elemento: 1\n",
      "Introduce tu elemento: 2\n",
      "Introduce tu elemento: 12\n",
      "Introduce tu elemento: 3\n",
      "Introduce tu elemento: 4\n",
      "Introduce tu elemento: 4\n",
      "Introduce tu elemento: 5\n",
      "Introduce un valor numérico: 1\n",
      "[1, 2, 3, 4, 5, 6, 7, 9, 10, 11, 1, 2, 3, 45, 67, 42, 21, 34, 6, 88, 12, 56, 712, 121, 434, 9, 12, 45, 21, 535, 132, 43, 1, 1, 1, 2, 3, 4, 5, 6, 7, 8, 9, 1, 2, 12, 3, 4, 4, 5]\n",
      "Tu valor numérico fue:  1\n",
      "El número de veces que apareció fue:  6\n"
     ]
    }
   ],
   "source": [
    "lectura = []\n",
    "suma = 0\n",
    "\n",
    "for i in range(1,51):\n",
    "    lectura.append(int(input(\"Introduce tu elemento: \")))\n",
    "\n",
    "a = int(input(\"Introduce un valor numérico: \"))\n",
    "\n",
    "\n",
    "for n in lectura:\n",
    "    if n==a:\n",
    "        suma+=1\n",
    "    \n",
    "print(lectura)        \n",
    "print(\"Tu valor numérico fue: \", a)\n",
    "print(\"El número de veces que apareció fue: \", suma)"
   ]
  },
  {
   "cell_type": "markdown",
   "metadata": {},
   "source": [
    "### 10. Sean nombre y sexo dos vectores que contienen el nombre y el sexo de cada uno de los miembros de un club juvenil de 25 miembros cada uno. Exprese Masculino y Femenino mediante (‘m’, ‘f’), respectivamente. Escriba un algoritmo que pueda generar dos nuevos vectores, llamados ma y fe, de tal forma que ma contenga el nombre de todos los hombres en orden alfabético y fe contenga el nombre de todas las mujeres en el mismo orden."
   ]
  },
  {
   "cell_type": "code",
   "execution_count": 48,
   "metadata": {},
   "outputs": [
    {
     "name": "stdout",
     "output_type": "stream",
     "text": [
      "Lista de hombres ordenados alfabéticamente\n",
      "-------------------------------------------------------------------------------------------------------------------------------\n",
      "['Abdiel', 'Admin', 'Alejandro', 'Asley', 'Castro', 'Christian', 'Cracklitos', 'Daniel', 'Diego', 'Eduardo', 'Enrique', 'Esteban', 'Fernando', 'Francisco', 'Jonathan', 'Jorge', 'José', 'Krysnar', 'Luis', 'Orlando', 'Rafael', 'Rubén', 'Ulises', 'William', 'Yader']\n",
      "\n",
      "Lista de mujeres ordenadas alfabéticamente\n",
      "-------------------------------------------------------------------------------------------------------------------------------\n",
      "['Adilem', 'Andrea', 'Ariel', 'Britanny', 'Celeste', 'Daniela', 'Eloisa', 'Esperanza', 'Isabella', 'Karen', 'Klemelys', 'Lorena', 'Mara', 'Mariangela', 'María', 'Melly', 'Paola', 'Paula', 'Priscilla', 'Sofía', 'Verónica', 'Victoria', 'Vlieg', 'Xochil', 'Yexely']\n"
     ]
    }
   ],
   "source": [
    "#La CUTI SOLUCIÓN\n",
    "nombres_sexo = {'Fernando':'m','Enrique':'m','Alejandro':'m','Luis':'m','Esteban':'m','Jonathan':'m',\n",
    "                'Rafael':'m','Orlando':'m','William':'m','Rubén':'m','Admin':'m',\n",
    "         'Asley':'m','Jorge':'m','Daniel':'m','Cracklitos':'m','Francisco':'m','Yader':'m','Abdiel':'m',\n",
    "        'Eduardo':'m','José':'m','Christian':'m','Ulises':'m','Krysnar':'m',\n",
    "         'Castro':'m','Diego':'m','Esperanza':'f','Adilem':'f','Priscilla':'f','María':'f','Daniela':'f',\n",
    "        'Ariel':'f','Eloisa':'f','Yexely':'f','Xochil':'f','Klemelys':'f','Paola':'f',\n",
    "        'Paula':'f','Melly':'f','Mara':'f','Britanny':'f','Victoria':'f','Sofía':'f','Karen':'f',\n",
    "        'Isabella':'f','Mariangela':'f','Verónica':'f','Lorena':'f','Celeste':'f','Andrea':'f','Vlieg':'f'}\n",
    "\n",
    "ma = []\n",
    "fe = []\n",
    "\n",
    "for i in nombres_sexo:\n",
    "        if nombres_sexo[i] == 'm':\n",
    "            ma.append(i)\n",
    "        else:\n",
    "            fe.append(i)\n",
    "        \n",
    "print(\"Lista de hombres ordenados alfabéticamente\")\n",
    "print(\"-------------------------------------------------------------------------------------------------------------------------------\")\n",
    "print(sorted(ma))\n",
    "print()\n",
    "print(\"Lista de mujeres ordenadas alfabéticamente\")\n",
    "print(\"-------------------------------------------------------------------------------------------------------------------------------\")\n",
    "print(sorted(fe))"
   ]
  },
  {
   "cell_type": "code",
   "execution_count": 80,
   "metadata": {},
   "outputs": [
    {
     "name": "stdout",
     "output_type": "stream",
     "text": [
      "C Hey\n",
      "f b\n",
      "m Alejandro\n",
      "k c\n",
      "f Mujer\n"
     ]
    }
   ],
   "source": [
    "#La solución de ALEJO\n",
    "class Vector:\n",
    "    def __init__(self):\n",
    "        global genero\n",
    "        global nombre\n",
    "        global vector\n",
    "        genero = []\n",
    "        nombre = []\n",
    "        vector = [genero, nombre]\n",
    "\n",
    "    def add(self, g, n):\n",
    "        vector[0].append(g)\n",
    "        vector[1].append(n)\n",
    "\n",
    "    def read(self):\n",
    "        #print(range(len(vector)))\n",
    "        for c in range(len(vector[0])):\n",
    "            print(vector[0][c-1] + \" \" + vector[1][c-1])\n",
    "\n",
    "\n",
    "v = Vector()\n",
    "\n",
    "v.add(\"f\", \"b\")\n",
    "v.add(\"m\", \"Alejandro\")\n",
    "v.add(\"k\", \"c\")\n",
    "v.add(\"f\",\"Mujer\")\n",
    "v.add(\"C\",\"Hey\")\n",
    "v.read()"
   ]
  },
  {
   "cell_type": "markdown",
   "metadata": {},
   "source": [
    "## Problemas para manejo de matrices\n"
   ]
  },
  {
   "cell_type": "code",
   "execution_count": 38,
   "metadata": {},
   "outputs": [],
   "source": [
    ">>> import numpy as np"
   ]
  },
  {
   "cell_type": "markdown",
   "metadata": {},
   "source": [
    "### 1. Escriba un algoritmo que lea una matriz de 36 elementos por columnas y visualice las mismas por filas. A continuación encuentre los elementos mayor y menor y sus posiciones."
   ]
  },
  {
   "cell_type": "code",
   "execution_count": null,
   "metadata": {},
   "outputs": [],
   "source": []
  },
  {
   "cell_type": "code",
   "execution_count": 79,
   "metadata": {
    "scrolled": true
   },
   "outputs": [
    {
     "name": "stdout",
     "output_type": "stream",
     "text": [
      "[[ 0  1  2  3  4  5]\n",
      " [ 6  7  8  9 10 11]\n",
      " [12 13 14 15 16 17]\n",
      " [18 19 20 21 22 23]\n",
      " [24 25 26 27 28 29]\n",
      " [30 31 32 33 34 35]]\n",
      "\n",
      " El valor máximo encontrado es:  35\n",
      "Lista de las coordenadas del valor máximo del arreglo : \n",
      "(5, 5)\n",
      "\n",
      " El valor mínimo encontrado es:  0\n",
      "Lista de las coordenadas del valor mínimo del arreglo : \n",
      "(0, 0)\n"
     ]
    }
   ],
   "source": [
    "arreglo = np.arange(36).reshape(6,6)\n",
    "print(array)\n",
    "\n",
    "\n",
    "# Encontrar el valor máximo de todo el arreglo\n",
    "v_max = numpy.amax(arreglo)\n",
    "print(\"\\n El valor máximo encontrado es: \", v_max)\n",
    "\n",
    "#Obtener el índice del valor máximo del arreglo\n",
    "indice_max = numpy.where(arreglo == numpy.amax(arreglo))\n",
    "print('Lista de las coordenadas del valor máximo del arreglo : ')\n",
    "\n",
    "# zip the 2 arrays to get the exact coordinates\n",
    "lista_coordenadas_max = list(zip(indice_max[0], indice_max[1]))\n",
    "\n",
    "# travese over the list of cordinates\n",
    "for coordenada in lista_coordenadas_max:\n",
    "    print(coordenada)\n",
    "    \n",
    "\n",
    "#Encontrar el valor mínimo de todo el arreglo\n",
    "v_min = numpy.amin(arreglo)\n",
    "print(\"\\n El valor mínimo encontrado es: \", v_min)\n",
    "\n",
    "#Obtener el índice del valor mínimo del arreglo\n",
    "indice_min = numpy.where(arreglo == v_min)\n",
    "print('Lista de las coordenadas del valor mínimo del arreglo : ')\n",
    "\n",
    "# zip the 2 arrays to get the exact coordinates\n",
    "lista_coordenadas_min = list(zip(indice_min[0], indice_min[1]))\n",
    "\n",
    "# travese over the list of cordinates\n",
    "for coordenada in lista_coordenadas_min:\n",
    "    print(coordenada)\n",
    "\n"
   ]
  },
  {
   "cell_type": "markdown",
   "metadata": {},
   "source": [
    "### 2. Cargue una matriz 4*4 con números, luego sume los elementos de cada fila y guárdelos en un vector fila; luego sume todos los elementos de cada columna y guárdelos en un vector columna."
   ]
  },
  {
   "cell_type": "code",
   "execution_count": 86,
   "metadata": {},
   "outputs": [
    {
     "name": "stdout",
     "output_type": "stream",
     "text": [
      "[[ 0  1  2]\n",
      " [ 3  4  5]\n",
      " [ 6  7  8]\n",
      " [ 9 10 11]]\n"
     ]
    },
    {
     "data": {
      "text/plain": [
       "array([ 3, 12, 21, 30])"
      ]
     },
     "execution_count": 86,
     "metadata": {},
     "output_type": "execute_result"
    }
   ],
   "source": [
    ">>> import numpy as np\n",
    ">>> a = np.arange(12).reshape(4,3)\n",
    "print(a)\n",
    ">>> a.sum(axis=1)"
   ]
  },
  {
   "cell_type": "code",
   "execution_count": 99,
   "metadata": {},
   "outputs": [
    {
     "name": "stdout",
     "output_type": "stream",
     "text": [
      "[[0.58858327 0.50007339 0.58003528 0.00288118]\n",
      " [0.51407696 0.68536508 0.27661777 0.14263711]\n",
      " [0.30033619 0.28201455 0.38280305 0.02981355]\n",
      " [0.72902365 0.38470521 0.20849844 0.99657001]]\n",
      "\n",
      "La suma de todos los elementos de las filas es [1.67157312 1.61869692 0.99496734 2.31879732]\n",
      "\n",
      "La suma de todos los elementos de las columnas es [2.13202008 1.85215823 1.44795454 1.17190185]\n"
     ]
    }
   ],
   "source": [
    "a = np.random.rand(4,4)\n",
    "print(a)\n",
    "\n",
    "fila = a.sum(axis=1)\n",
    "columna = a.sum(axis=0)\n",
    "\n",
    "print(\"\\nLa suma de todos los elementos de las filas es\", fila)\n",
    "print(\"\\nLa suma de todos los elementos de las columnas es\", columna)"
   ]
  },
  {
   "cell_type": "markdown",
   "metadata": {},
   "source": [
    "### 3. Cargue dos matrices cuadradas y realice las siguientes operaciones: SUMA, RESTA. Deberá imprimir cada matriz al lado de la otra."
   ]
  },
  {
   "cell_type": "code",
   "execution_count": 125,
   "metadata": {},
   "outputs": [
    {
     "name": "stdout",
     "output_type": "stream",
     "text": [
      "\n",
      " [[3 2]\n",
      " [0 0]]\n",
      "\n",
      " [[3 0]\n",
      " [2 1]]\n",
      "\n",
      "La suma es: \n",
      "\n",
      " [[6 2]\n",
      " [2 1]]\n",
      "\n",
      "La resta es: \n",
      "\n",
      " [[ 0  2]\n",
      " [-2 -1]]\n"
     ]
    }
   ],
   "source": [
    "a = np.random.randint(5, size=(2, 2))\n",
    "b = np.random.randint(5, size=(2, 2))\n",
    "\n",
    "print(\"\\n\",a)\n",
    "print(\"\\n\",b)\n",
    "\n",
    "print(\"\\nLa suma es: \")\n",
    "print(\"\\n\", a + b)\n",
    "print(\"\\nLa resta es: \")\n",
    "print(\"\\n\", a - b)\n"
   ]
  },
  {
   "cell_type": "markdown",
   "metadata": {},
   "source": [
    "### 4. Una agencia de ventas de vehículos distribuye 15 modelos diferentes y tiene en su planilla a 10 vendedores. Elabore un algoritmo que muestre la siguiente información:\n",
    "#### • Un informe mensual de las ventas por vendedor y modelo.\n",
    "#### • Un informe mensual del total de autos vendidos por vendedor y modelo.\n",
    "#### • Y por último se desea entregar un premio al mejor vendedor, para ello considere como criterio de selección el que más autos vendió."
   ]
  },
  {
   "cell_type": "markdown",
   "metadata": {},
   "source": [
    "## Estoy teniendo problemas en:\n",
    "### No puedo tener 15 modelos de carros y anexarlos a 10 vendedores porque me sale error\n",
    "### No puedo acceder al vendedor con mayor ventas e imprimir su nombre"
   ]
  },
  {
   "cell_type": "code",
   "execution_count": 39,
   "metadata": {},
   "outputs": [],
   "source": [
    "import pandas as pd"
   ]
  },
  {
   "cell_type": "code",
   "execution_count": 59,
   "metadata": {},
   "outputs": [
    {
     "name": "stdout",
     "output_type": "stream",
     "text": [
      "  Vendedores            Modelos   Ventas\n",
      "a     Carlos     Toyota Corolla  1200000\n",
      "b  Esperanza      Ford F-Series  1300000\n",
      "c      Ariel    Volkswagen Golf   160000\n",
      "d   Fernando  Volkswagen Beetle   180000\n",
      "e       Juan        Ford Escort    20000\n",
      "f       Jhon           Fiat 124   400000\n",
      "g     Jordan        Honda Civic    80000\n",
      "h     Joyner       Ford Model T    45000\n",
      "i     Benito  Volkswagen Passat   100000\n",
      "j       René   Chevrolet Impala   120000\n",
      "\n",
      "   Vendedores          Vehículos  Número de autos vendidos\n",
      "a     Carlos     Toyota Corolla                        10\n",
      "b  Esperanza      Ford F-Series                        20\n",
      "c      Ariel    Volkswagen Golf                        40\n",
      "d   Fernando  Volkswagen Beetle                        60\n",
      "e       Juan        Ford Escort                         8\n",
      "f       Jhon           Fiat 124                        15\n",
      "g     Jordan        Honda Civic                        20\n",
      "h     Joyner       Ford Model T                         7\n",
      "i     Benito  Volkswagen Passat                         9\n",
      "j       René   Chevrolet Impala                        10\n",
      "\n",
      " Vendedores                           Fernando\n",
      "Vehículos                   Volkswagen Beetle\n",
      "Número de autos vendidos                   60\n",
      "Name: d, dtype: object\n"
     ]
    }
   ],
   "source": [
    "# Listas\n",
    "vehiculos1 = ['Toyota Corolla', 'Ford F-Series', 'Volkswagen Golf', 'Volkswagen Beetle', 'Ford Escort', \n",
    "            'Fiat 124', 'Honda Civic', 'Ford Model T', 'Volkswagen Passat', 'Chevrolet Impala', 'Nissan Qhasquai',\n",
    "            'Tesla Model S', 'Chery QQ', 'Kia Picanto', 'Ferrari Lamborghini']\n",
    "\n",
    "vehiculos = ['Toyota Corolla', 'Ford F-Series', 'Volkswagen Golf', 'Volkswagen Beetle', 'Ford Escort', \n",
    "            'Fiat 124', 'Honda Civic', 'Ford Model T', 'Volkswagen Passat', 'Chevrolet Impala']\n",
    "\n",
    "vendedores = ['Carlos','Esperanza','Ariel','Fernando','Juan','Jhon','Jordan','Joyner','Benito','René']\n",
    "\n",
    "ventas = [1200000, 1300000, 160000, 180000, 20000, 400000, 80000, 45000, 100000, 120000]\n",
    "\n",
    "numero_de_autos_vendidos = [10,20,40,60,8,15,20,7,9,10]\n",
    "\n",
    "zippedList1 =  list(zip(vendedores, vehiculos,ventas))\n",
    "zippedList2 =  list(zip(vendedores, vehiculos, numero_de_autos_vendidos))\n",
    "\n",
    "\n",
    "#Dataframes\n",
    "\n",
    "informe_1 = pd.DataFrame(zippedList1, columns = ['Vendedores','Modelos','Ventas'], \n",
    "                         index = ['a','b','c','d','e','f','g','h','i','j'])\n",
    "\n",
    "informe_2 = pd.DataFrame(zippedList2, columns = ['Vendedores' , 'Vehículos', 'Número de autos vendidos'], \n",
    "                     index=['a','b','c','d','e','f','g','h','i','j']) \n",
    "\n",
    "#Hallar el máximo valor del arreglo\n",
    "\n",
    "informe_2['Número de autos vendidos'].max()\n",
    "\n",
    "#Print\n",
    "print(informe_1)\n",
    "print(\"\\n\",informe_2)\n",
    "print(\"\\n\",informe_2.loc[informe_2['Número de autos vendidos'].idxmax()])\n"
   ]
  },
  {
   "cell_type": "markdown",
   "metadata": {},
   "source": [
    "### 5. Industria Moderna S. A. le encarga diseñar un algoritmo que refleje las ventas por departamento (totales por departamento); para ello se cuenta con los siguientes datos de entrada: código de departamento, nombre del departamento, código de artículo, monto de la venta. El almacén cuenta con 5 departamentos y cada departamento con 10 artículos.\n",
    "Salida deseada:\n",
    "INDUSTRIAS MODERNAS S.A.\n",
    "VENTAS POR DEPARTAMENTO\n",
    "DEPARTAMENTO: x - - - - - - - -x\n",
    "COD. DE ARTÍCULO MONTO DE LA VENTA\n",
    "99 999.99\n",
    "TOTAL DEL DEPARTAMENTO: 9999.99"
   ]
  },
  {
   "cell_type": "code",
   "execution_count": 14,
   "metadata": {},
   "outputs": [],
   "source": [
    "import numpy as np\n",
    "import pandas as pd"
   ]
  },
  {
   "cell_type": "code",
   "execution_count": null,
   "metadata": {},
   "outputs": [],
   "source": []
  },
  {
   "cell_type": "code",
   "execution_count": 41,
   "metadata": {},
   "outputs": [],
   "source": [
    "class Depto:\n",
    "    def __init__(self, cod_dpto, nombre_dpto,cod_arts=None,mon_ventas=None,t_ventas=0):\n",
    "        self.cod_dpto = cod_dpto\n",
    "        self.nombre_dpto = nombre_dpto\n",
    "        self.cod_arts = []\n",
    "        self.mon_ventas = []\n",
    "        self.t_ventas = t_ventas\n",
    "    \n",
    "    #Crea un departamento\n",
    "    def crear_Depto(self):\n",
    "        print(\"El departamento {} ha sido creado\".format(self.nombre_dpto))\n",
    "    \n",
    "    def agregar_articulo(self, cod_articulo, m_venta):\n",
    "        #print(\"\\nSe esta creando un articulo\")\n",
    "        #print(\"\\n\\tSe creo el articulo codigo {} y monto de venta {} \".format(cod_articulo, m_venta))\n",
    "        self.cod_arts.append(cod_articulo)\n",
    "        self.mon_ventas.append(m_venta)\n",
    "    \n",
    "    def imprimir_lista(self):\n",
    "        print(self.cod_arts)\n",
    "        print(self.mon_ventas)\n",
    "    \n",
    "    def crear_data_frame(self):\n",
    "        lista_zippeada = list(zip(self.cod_arts,self.mon_ventas))\n",
    "        #Creando un dataframe desde una lista\n",
    "        departamento = pd.DataFrame(lista_zippeada, columns = ['COD DE ARTÍCULO','MONTO DE LA VENTA',], \n",
    "                                    index=['1','2','3','4','5','6','7','8','9','10'])\n",
    "        print(\"\\nDEPARTAMENTO {}, {} \\n\".format(self.cod_dpto, self.nombre_dpto))\n",
    "        print(departamento)\n",
    "        self.t_ventas = departamento['MONTO DE LA VENTA'].sum()\n",
    "    \n",
    "    def total_departamento(self):\n",
    "        print(\"TOTAL DEL DEPARTAMENTO: \",self.t_ventas)\n",
    "\n"
   ]
  },
  {
   "cell_type": "code",
   "execution_count": 42,
   "metadata": {},
   "outputs": [
    {
     "name": "stdout",
     "output_type": "stream",
     "text": [
      "INDUSTRIAS MODERNAS SA\n",
      "VENTAS POR DEPARTAMENTO\n",
      "\n",
      "DEPARTAMENTO 125, Ventas \n",
      "\n",
      "    COD DE ARTÍCULO  MONTO DE LA VENTA\n",
      "1                89                125\n",
      "2                45                 15\n",
      "3                25                 55\n",
      "4                45                 16\n",
      "5                24                900\n",
      "6                25               9000\n",
      "7                26               1200\n",
      "8                27               7000\n",
      "9                28               8000\n",
      "10               29               9500\n",
      "TOTAL DEL DEPARTAMENTO:  35811\n",
      "\n",
      "DEPARTAMENTO 67, Marketing \n",
      "\n",
      "    COD DE ARTÍCULO  MONTO DE LA VENTA\n",
      "1                10                400\n",
      "2                11                100\n",
      "3                12                200\n",
      "4                13                300\n",
      "5                14                 90\n",
      "6                15                 90\n",
      "7                16                120\n",
      "8                17                700\n",
      "9                18                800\n",
      "10               19                950\n",
      "TOTAL DEL DEPARTAMENTO:  3750\n",
      "\n",
      "DEPARTAMENTO 70, Innovación \n",
      "\n",
      "    COD DE ARTÍCULO  MONTO DE LA VENTA\n",
      "1                30                250\n",
      "2                31                540\n",
      "3                32                230\n",
      "4                33                980\n",
      "5                34                 10\n",
      "6                35                100\n",
      "7                36                200\n",
      "8                37                750\n",
      "9                38                400\n",
      "10               39                950\n",
      "TOTAL DEL DEPARTAMENTO:  4410\n",
      "\n",
      "DEPARTAMENTO 71, Software \n",
      "\n",
      "    COD DE ARTÍCULO  MONTO DE LA VENTA\n",
      "1                40                 40\n",
      "2                41                 50\n",
      "3                42                 60\n",
      "4                43                380\n",
      "5                44                230\n",
      "6                45                450\n",
      "7                46                 50\n",
      "8                47                 90\n",
      "9                48                 80\n",
      "10               49                 90\n",
      "TOTAL DEL DEPARTAMENTO:  1520\n",
      "\n",
      "DEPARTAMENTO 72, Gerencia \n",
      "\n",
      "    COD DE ARTÍCULO  MONTO DE LA VENTA\n",
      "1                50                400\n",
      "2                51                100\n",
      "3                52                200\n",
      "4                53                 30\n",
      "5                54                 90\n",
      "6                55                 40\n",
      "7                56                120\n",
      "8                57                710\n",
      "9                58                820\n",
      "10               59                 95\n",
      "TOTAL DEL DEPARTAMENTO:  2605\n"
     ]
    }
   ],
   "source": [
    "ventas = Depto(125, 'Ventas')\n",
    "ventas.agregar_articulo(89, 125)\n",
    "ventas.agregar_articulo(45, 15)\n",
    "ventas.agregar_articulo(25, 55)\n",
    "ventas.agregar_articulo(45, 16)\n",
    "ventas.agregar_articulo(24,900)\n",
    "ventas.agregar_articulo(25,9000)\n",
    "ventas.agregar_articulo(26,1200)\n",
    "ventas.agregar_articulo(27,7000)\n",
    "ventas.agregar_articulo(28,8000)\n",
    "ventas.agregar_articulo(29,9500)\n",
    "\n",
    "marketing = Depto(67,'Marketing')\n",
    "marketing.agregar_articulo(10,400)\n",
    "marketing.agregar_articulo(11,100)\n",
    "marketing.agregar_articulo(12,200)\n",
    "marketing.agregar_articulo(13,300)\n",
    "marketing.agregar_articulo(14,90)\n",
    "marketing.agregar_articulo(15,90)\n",
    "marketing.agregar_articulo(16,120)\n",
    "marketing.agregar_articulo(17,700)\n",
    "marketing.agregar_articulo(18,800)\n",
    "marketing.agregar_articulo(19,950)\n",
    "\n",
    "innovacion = Depto(70,'Innovación')\n",
    "innovacion.agregar_articulo(30,250)\n",
    "innovacion.agregar_articulo(31,540)\n",
    "innovacion.agregar_articulo(32,230)\n",
    "innovacion.agregar_articulo(33,980)\n",
    "innovacion.agregar_articulo(34,10)\n",
    "innovacion.agregar_articulo(35,100)\n",
    "innovacion.agregar_articulo(36,200)\n",
    "innovacion.agregar_articulo(37,750)\n",
    "innovacion.agregar_articulo(38,400)\n",
    "innovacion.agregar_articulo(39,950)\n",
    "\n",
    "software = Depto(71,'Software')\n",
    "software.agregar_articulo(40,40)\n",
    "software.agregar_articulo(41,50)\n",
    "software.agregar_articulo(42,60)\n",
    "software.agregar_articulo(43,380)\n",
    "software.agregar_articulo(44,230)\n",
    "software.agregar_articulo(45,450)\n",
    "software.agregar_articulo(46,50)\n",
    "software.agregar_articulo(47,90)\n",
    "software.agregar_articulo(48,80)\n",
    "software.agregar_articulo(49,90)\n",
    "\n",
    "gerencia = Depto(72,'Gerencia')\n",
    "gerencia.agregar_articulo(50,400)\n",
    "gerencia.agregar_articulo(51,100)\n",
    "gerencia.agregar_articulo(52,200)\n",
    "gerencia.agregar_articulo(53,30)\n",
    "gerencia.agregar_articulo(54,90)\n",
    "gerencia.agregar_articulo(55,40)\n",
    "gerencia.agregar_articulo(56,120)\n",
    "gerencia.agregar_articulo(57,710)\n",
    "gerencia.agregar_articulo(58,820)\n",
    "gerencia.agregar_articulo(59,95)\n",
    "\n",
    "        \n",
    "print(\"INDUSTRIAS MODERNAS SA\")\n",
    "print(\"VENTAS POR DEPARTAMENTO\")\n",
    "ventas.crear_data_frame()\n",
    "ventas.total_departamento()\n",
    "marketing.crear_data_frame()\n",
    "marketing.total_departamento()\n",
    "innovacion.crear_data_frame()\n",
    "innovacion.total_departamento()\n",
    "software.crear_data_frame()\n",
    "software.total_departamento()\n",
    "gerencia.crear_data_frame()\n",
    "gerencia.total_departamento()\n",
    "\n"
   ]
  },
  {
   "cell_type": "markdown",
   "metadata": {},
   "source": [
    "### 6. Con base en el anterior planteamiento, elabore un algoritmo que realice los siguientes procesos:\n",
    "#### • Determinar el departamento de mayor venta.\n",
    "#### • Calcular el promedio de ventas por departamento.\n",
    "#### • Determinar el artículo de mayor venta en el almacén"
   ]
  },
  {
   "cell_type": "code",
   "execution_count": 90,
   "metadata": {},
   "outputs": [],
   "source": [
    "class Depto:\n",
    "    def __init__(self, cod_dpto, nombre_dpto,cod_arts=None,mon_ventas=None,t_ventas=0,n_ventas=None, promedio_ventas=0,\n",
    "                mayor_venta=0):\n",
    "        self.cod_dpto = cod_dpto\n",
    "        self.nombre_dpto = nombre_dpto\n",
    "        self.cod_arts = []\n",
    "        self.mon_ventas = []\n",
    "        self.t_ventas = t_ventas\n",
    "        self.n_ventas = []\n",
    "        self.promedio_ventas = promedio_ventas\n",
    "        self.mayor_venta = mayor_venta \n",
    "        \n",
    "    #Crea un departamento\n",
    "    def crear_Depto(self):\n",
    "        print(\"El departamento {} ha sido creado\".format(self.nombre_dpto))\n",
    "    \n",
    "    def agregar_articulo(self, cod_articulo, m_venta, n_venta):\n",
    "        #print(\"\\nSe esta creando un articulo\")\n",
    "        #print(\"\\n\\tSe creo el articulo codigo {} y monto de venta {} \".format(cod_articulo, m_venta))\n",
    "        self.cod_arts.append(cod_articulo)\n",
    "        self.mon_ventas.append(m_venta)\n",
    "        self.n_ventas.append(n_venta)\n",
    "    \n",
    "    def imprimir_lista(self):\n",
    "        print(self.cod_arts)\n",
    "        print(self.mon_ventas)\n",
    "    \n",
    "    def crear_data_frame(self):\n",
    "        lista_zippeada = list(zip(self.cod_arts,self.mon_ventas,self.n_ventas))\n",
    "        #Creando un dataframe desde una lista\n",
    "        departamento = pd.DataFrame(lista_zippeada, columns = ['COD DE ARTÍCULO','MONTO DE LA VENTA','VENTAS'], \n",
    "                                    index=['1','2','3','4','5','6','7','8','9','10'])\n",
    "        print(\"\\nDEPARTAMENTO {}, {} \\n\".format(self.cod_dpto, self.nombre_dpto))\n",
    "        print(departamento)\n",
    "        self.t_ventas = departamento['MONTO DE LA VENTA'].sum()\n",
    "        self.n_ventas = departamento['VENTAS'].sum()\n",
    "        self.promedio_ventas = departamento['VENTAS'].mean() \n",
    "        self.mayor_venta = departamento.nlargest(1,['VENTAS']) \n",
    "    \n",
    "    def total_monto(self):\n",
    "        print(\"TOTAL DEL DEPARTAMENTO: \",self.t_ventas)\n",
    "    \n",
    "    def total_ventas(self):\n",
    "        return self.n_ventas\n",
    "    \n",
    "    def depto_nombre(self):\n",
    "        return self.nombre_dpto\n",
    "    \n",
    "    def promedio_ventas(self):\n",
    "        return self.promedio_ventas\n",
    "    \n",
    "    def mayor_venta(self):\n",
    "        return self.mayor_venta"
   ]
  },
  {
   "cell_type": "code",
   "execution_count": 91,
   "metadata": {},
   "outputs": [
    {
     "name": "stdout",
     "output_type": "stream",
     "text": [
      "INDUSTRIAS MODERNAS SA\n",
      "VENTAS POR DEPARTAMENTO\n",
      "\n",
      "DEPARTAMENTO 125, Ventas \n",
      "\n",
      "    COD DE ARTÍCULO  MONTO DE LA VENTA  VENTAS\n",
      "1                89                125      24\n",
      "2                45                 15      31\n",
      "3                25                 55      45\n",
      "4                45                 16      12\n",
      "5                24                900      23\n",
      "6                25               9000      45\n",
      "7                26               1200      32\n",
      "8                27               7000      12\n",
      "9                28               8000      78\n",
      "10               29               9500      90\n",
      "TOTAL DEL DEPARTAMENTO:  35811\n",
      "\n",
      "DEPARTAMENTO 67, Marketing \n",
      "\n",
      "    COD DE ARTÍCULO  MONTO DE LA VENTA  VENTAS\n",
      "1                10                400      45\n",
      "2                11                100      23\n",
      "3                12                200      46\n",
      "4                13                300      12\n",
      "5                14                 90      17\n",
      "6                15                 90      23\n",
      "7                16                120      14\n",
      "8                17                700      16\n",
      "9                18                800      18\n",
      "10               19                950      24\n",
      "TOTAL DEL DEPARTAMENTO:  3750\n",
      "\n",
      "DEPARTAMENTO 70, Innovación \n",
      "\n",
      "    COD DE ARTÍCULO  MONTO DE LA VENTA  VENTAS\n",
      "1                30                250      34\n",
      "2                31                540      12\n",
      "3                32                230      65\n",
      "4                33                980      90\n",
      "5                34                 10       1\n",
      "6                35                100       2\n",
      "7                36                200      56\n",
      "8                37                750      43\n",
      "9                38                400     108\n",
      "10               39                950      47\n",
      "TOTAL DEL DEPARTAMENTO:  4410\n",
      "\n",
      "DEPARTAMENTO 71, Software \n",
      "\n",
      "    COD DE ARTÍCULO  MONTO DE LA VENTA  VENTAS\n",
      "1                40                 40      43\n",
      "2                41                 50      12\n",
      "3                42                 60      45\n",
      "4                43                380      32\n",
      "5                44                230      24\n",
      "6                45                450      45\n",
      "7                46                 50      56\n",
      "8                47                 90      41\n",
      "9                48                 80      12\n",
      "10               49                 90      13\n",
      "TOTAL DEL DEPARTAMENTO:  1520\n",
      "\n",
      "DEPARTAMENTO 72, Gerencia \n",
      "\n",
      "    COD DE ARTÍCULO  MONTO DE LA VENTA  VENTAS\n",
      "1                50                400      98\n",
      "2                51                100      67\n",
      "3                52                200      45\n",
      "4                53                 30      56\n",
      "5                54                 90      78\n",
      "6                55                 40      45\n",
      "7                56                120      34\n",
      "8                57                710      45\n",
      "9                58                820      90\n",
      "10               59                 95      21\n",
      "TOTAL DEL DEPARTAMENTO:  2605\n"
     ]
    }
   ],
   "source": [
    "ventas = Depto(125, 'Ventas')\n",
    "ventas.agregar_articulo(89, 125,24)\n",
    "ventas.agregar_articulo(45, 15,31)\n",
    "ventas.agregar_articulo(25, 55,45)\n",
    "ventas.agregar_articulo(45, 16,12)\n",
    "ventas.agregar_articulo(24,900,23)\n",
    "ventas.agregar_articulo(25,9000,45)\n",
    "ventas.agregar_articulo(26,1200,32)\n",
    "ventas.agregar_articulo(27,7000,12)\n",
    "ventas.agregar_articulo(28,8000,78)\n",
    "ventas.agregar_articulo(29,9500,90)\n",
    "\n",
    "marketing = Depto(67,'Marketing')\n",
    "marketing.agregar_articulo(10,400,45)\n",
    "marketing.agregar_articulo(11,100,23)\n",
    "marketing.agregar_articulo(12,200,46)\n",
    "marketing.agregar_articulo(13,300,12)\n",
    "marketing.agregar_articulo(14,90,17)\n",
    "marketing.agregar_articulo(15,90,23)\n",
    "marketing.agregar_articulo(16,120,14)\n",
    "marketing.agregar_articulo(17,700,16)\n",
    "marketing.agregar_articulo(18,800,18)\n",
    "marketing.agregar_articulo(19,950,24)\n",
    "\n",
    "innovacion = Depto(70,'Innovación')\n",
    "innovacion.agregar_articulo(30,250,34)\n",
    "innovacion.agregar_articulo(31,540,12)\n",
    "innovacion.agregar_articulo(32,230,65)\n",
    "innovacion.agregar_articulo(33,980,90)\n",
    "innovacion.agregar_articulo(34,10,1)\n",
    "innovacion.agregar_articulo(35,100,2)\n",
    "innovacion.agregar_articulo(36,200,56)\n",
    "innovacion.agregar_articulo(37,750,43)\n",
    "innovacion.agregar_articulo(38,400,108)\n",
    "innovacion.agregar_articulo(39,950,47)\n",
    "\n",
    "software = Depto(71,'Software')\n",
    "software.agregar_articulo(40, 40, 43)\n",
    "software.agregar_articulo(41, 50, 12)\n",
    "software.agregar_articulo(42, 60, 45)\n",
    "software.agregar_articulo(43,380, 32)\n",
    "software.agregar_articulo(44,230, 24)\n",
    "software.agregar_articulo(45,450, 45)\n",
    "software.agregar_articulo(46,50, 56)\n",
    "software.agregar_articulo(47,90, 41)\n",
    "software.agregar_articulo(48,80, 12)\n",
    "software.agregar_articulo(49,90, 13)\n",
    "\n",
    "gerencia = Depto(72,'Gerencia')\n",
    "gerencia.agregar_articulo(50,400, 98)\n",
    "gerencia.agregar_articulo(51,100, 67)\n",
    "gerencia.agregar_articulo(52,200, 45)\n",
    "gerencia.agregar_articulo(53,30, 56)\n",
    "gerencia.agregar_articulo(54,90, 78)\n",
    "gerencia.agregar_articulo(55,40, 45)\n",
    "gerencia.agregar_articulo(56,120, 34)\n",
    "gerencia.agregar_articulo(57,710, 45)\n",
    "gerencia.agregar_articulo(58,820, 90)\n",
    "gerencia.agregar_articulo(59,95, 21)\n",
    "\n",
    "        \n",
    "print(\"INDUSTRIAS MODERNAS SA\")\n",
    "print(\"VENTAS POR DEPARTAMENTO\")\n",
    "ventas.crear_data_frame()\n",
    "ventas.total_monto()\n",
    "marketing.crear_data_frame()\n",
    "marketing.total_monto()\n",
    "innovacion.crear_data_frame()\n",
    "innovacion.total_monto()\n",
    "software.crear_data_frame()\n",
    "software.total_monto()\n",
    "gerencia.crear_data_frame()\n",
    "gerencia.total_monto()\n"
   ]
  },
  {
   "cell_type": "code",
   "execution_count": 122,
   "metadata": {},
   "outputs": [
    {
     "name": "stdout",
     "output_type": "stream",
     "text": [
      "DEPARTAMENTO DE MAYOR VENTAS\n",
      "Gerencia 579\n",
      "\n",
      "PROMEDIO DE VENTAS\n",
      "\n",
      "DEPARTAMENTO Ventas PROMEDIO DE VENTAS 39.2\n",
      "DEPARTAMENTO Innovación PROMEDIO DE VENTAS 45.8\n",
      "DEPARTAMENTO Marketing PROMEDIO DE VENTAS 23.8\n",
      "DEPARTAMENTO Gerencia PROMEDIO DE VENTAS 57.9\n",
      "DEPARTAMENTO Software PROMEDIO DE VENTAS 32.3\n",
      "\n",
      "ARTICULO DE MAYOR VENTA EN EL ALMACEN\n",
      "\n",
      "   COD DE ARTÍCULO  MONTO DE LA VENTA  VENTAS\n",
      "9               38                400     108\n"
     ]
    }
   ],
   "source": [
    "# Determinar el departamento de mayor ventas\n",
    "deptos = [ventas.depto_nombre(), innovacion.depto_nombre(), marketing.depto_nombre(), gerencia.depto_nombre(), \n",
    "          software.depto_nombre()]\n",
    "ventas_deptos = [ventas.total_ventas(), innovacion.total_ventas(),marketing.total_ventas(),gerencia.total_ventas()\n",
    "                ,software.total_ventas()]\n",
    "\n",
    "diccionario = dict(zip(deptos, ventas_deptos))\n",
    "\n",
    "maximo = max(diccionario, key=diccionario.get)\n",
    "print(\"DEPARTAMENTO DE MAYOR VENTAS\")\n",
    "print(maximo, diccionario[maximo])\n",
    "\n",
    "\n",
    "# Calcular el promedio de ventas por departamento\n",
    "print(\"\\nPROMEDIO DE VENTAS\\n\")\n",
    "print('DEPARTAMENTO {} PROMEDIO DE VENTAS {}'.format(ventas.depto_nombre(), ventas.promedio_ventas))\n",
    "print('DEPARTAMENTO {} PROMEDIO DE VENTAS {}'.format(innovacion.depto_nombre(), innovacion.promedio_ventas))\n",
    "print('DEPARTAMENTO {} PROMEDIO DE VENTAS {}'.format(marketing.depto_nombre(), marketing.promedio_ventas))\n",
    "print('DEPARTAMENTO {} PROMEDIO DE VENTAS {}'.format(gerencia.depto_nombre(), gerencia.promedio_ventas))\n",
    "print('DEPARTAMENTO {} PROMEDIO DE VENTAS {}'.format(software.depto_nombre(), software.promedio_ventas))\n",
    "\n",
    "\n",
    "# Determinar el articulo de mayor venta en el almacen\n",
    "print('\\nARTICULO DE MAYOR VENTA EN EL ALMACEN\\n')\n",
    "mayor_venta = []\n",
    "\n",
    "mayor_venta.append(innovacion.mayor_venta)\n",
    "mayor_venta.append(ventas.mayor_venta)\n",
    "mayor_venta.append(marketing.mayor_venta)\n",
    "mayor_venta.append(gerencia.mayor_venta)\n",
    "mayor_venta.append(software.mayor_venta)\n",
    "\n",
    "print(mayor_venta[0])\n"
   ]
  },
  {
   "cell_type": "markdown",
   "metadata": {},
   "source": [
    "### 7. Cargue una matriz A (8,8) de la siguiente manera:\n",
    "#### • Llene con ceros (0) la diagonal principal.\n",
    "#### • Llene con unos (1) la que quede encima de la diagonal principal.\n",
    "#### • Llene con números (2) la que quede debajo de la diagonal principal.\n",
    "#### • Imprima la matriz.\n"
   ]
  },
  {
   "cell_type": "code",
   "execution_count": 47,
   "metadata": {},
   "outputs": [],
   "source": [
    "b = np.full((8,8), 2)\n",
    "np.fill_diagonal(b, 0)"
   ]
  },
  {
   "cell_type": "code",
   "execution_count": 111,
   "metadata": {},
   "outputs": [],
   "source": [
    "c = np.tril(b, 0)\n",
    "np.fill_diagonal(c[:-1, 1:], 1)    \n",
    "np.fill_diagonal(c[:-1, 2:], 1)\n",
    "np.fill_diagonal(c[:-1, 3:], 1)\n",
    "np.fill_diagonal(c[:-1, 4:], 1)\n",
    "np.fill_diagonal(c[:-1, 5:], 1)\n",
    "np.fill_diagonal(c[:-1, 6:], 1)\n",
    "np.fill_diagonal(c[:-1, 7:], 1)"
   ]
  },
  {
   "cell_type": "code",
   "execution_count": 112,
   "metadata": {},
   "outputs": [
    {
     "data": {
      "text/plain": [
       "array([[0, 1, 1, 1, 1, 1, 1, 1],\n",
       "       [2, 0, 1, 1, 1, 1, 1, 1],\n",
       "       [2, 2, 0, 1, 1, 1, 1, 1],\n",
       "       [2, 2, 2, 0, 1, 1, 1, 1],\n",
       "       [2, 2, 2, 2, 0, 1, 1, 1],\n",
       "       [2, 2, 2, 2, 2, 0, 1, 1],\n",
       "       [2, 2, 2, 2, 2, 2, 0, 1],\n",
       "       [2, 2, 2, 2, 2, 2, 2, 0]])"
      ]
     },
     "execution_count": 112,
     "metadata": {},
     "output_type": "execute_result"
    }
   ],
   "source": [
    "c"
   ]
  }
 ],
 "metadata": {
  "kernelspec": {
   "display_name": "Python 3",
   "language": "python",
   "name": "python3"
  },
  "language_info": {
   "codemirror_mode": {
    "name": "ipython",
    "version": 3
   },
   "file_extension": ".py",
   "mimetype": "text/x-python",
   "name": "python",
   "nbconvert_exporter": "python",
   "pygments_lexer": "ipython3",
   "version": "3.7.3"
  }
 },
 "nbformat": 4,
 "nbformat_minor": 2
}
