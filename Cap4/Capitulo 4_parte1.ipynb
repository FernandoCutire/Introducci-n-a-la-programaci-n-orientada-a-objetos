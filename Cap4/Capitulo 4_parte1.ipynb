{
 "cells": [
  {
   "cell_type": "markdown",
   "metadata": {},
   "source": [
    "# Capítulo 4 "
   ]
  },
  {
   "cell_type": "markdown",
   "metadata": {},
   "source": [
    "## Son los problemas del capítulo 4 del libro"
   ]
  },
  {
   "cell_type": "markdown",
   "metadata": {},
   "source": [
    "### 1. Leer un número entero, encontrar su valor absoluto e imprimir número y valor absoluto."
   ]
  },
  {
   "cell_type": "code",
   "execution_count": 1,
   "metadata": {},
   "outputs": [],
   "source": [
    "import math"
   ]
  },
  {
   "cell_type": "code",
   "execution_count": 12,
   "metadata": {},
   "outputs": [
    {
     "name": "stdout",
     "output_type": "stream",
     "text": [
      "Ingrese un numero > -10\n",
      "El valor absoluto es 10\n"
     ]
    }
   ],
   "source": [
    "def ValorAbsoluto(X):\n",
    "    if X < 0:\n",
    "        return X * -1\n",
    "    elif X > 0:\n",
    "        return X\n",
    "    else:\n",
    "        return 0\n",
    "\n",
    "X = int(input('Ingrese un numero > '))\n",
    "print('El valor absoluto es %s' % ValorAbsoluto(X))"
   ]
  },
  {
   "cell_type": "markdown",
   "metadata": {},
   "source": [
    "### 2. Leer los valores de cuatro enteros: A, B, C y D. Imprimir el mensaje “SÍ”, si el valor de A/B = C/D; en caso contrario, imprimir el mensaje “NO”. Si alguno de los valores de B o D es cero, imprimir Indefinido."
   ]
  },
  {
   "cell_type": "code",
   "execution_count": 5,
   "metadata": {},
   "outputs": [
    {
     "name": "stdout",
     "output_type": "stream",
     "text": [
      "Inserta 4 numeros enteros\n",
      "1\n",
      "2\n",
      "1\n",
      "2\n",
      "Si\n"
     ]
    }
   ],
   "source": [
    "def mensaje(A, B, C, D):\n",
    "    if (B or D) == 0:\n",
    "        print(\"Indefinido\")\n",
    "    elif A/B == C/D:\n",
    "        print(\"Si\")\n",
    "    else:\n",
    "        print(\"No\")\n",
    "\n",
    "print(\"Inserta 4 numeros enteros\")\n",
    "A = int(input())\n",
    "B = int(input())\n",
    "C = int(input())\n",
    "D = int(input())\n",
    "\n",
    "mensaje(A, B, C, D)"
   ]
  },
  {
   "cell_type": "code",
   "execution_count": 7,
   "metadata": {},
   "outputs": [
    {
     "name": "stdout",
     "output_type": "stream",
     "text": [
      "Inserta 4 numeros enteros\n",
      "100\n",
      "0\n",
      "45\n",
      "0\n",
      "Indefinido\n"
     ]
    }
   ],
   "source": [
    "print(\"Inserta 4 numeros enteros\")\n",
    "A = int(input())\n",
    "B = int(input())\n",
    "C = int(input())\n",
    "D = int(input())\n",
    "\n",
    "mensaje(A, B, C, D)"
   ]
  },
  {
   "cell_type": "code",
   "execution_count": 8,
   "metadata": {},
   "outputs": [
    {
     "name": "stdout",
     "output_type": "stream",
     "text": [
      "Inserta 4 numeros enteros\n",
      "4\n",
      "5\n",
      "9\n",
      "8\n",
      "No\n"
     ]
    }
   ],
   "source": [
    "print(\"Inserta 4 numeros enteros\")\n",
    "A = int(input())\n",
    "B = int(input())\n",
    "C = int(input())\n",
    "D = int(input())\n",
    "\n",
    "mensaje(A, B, C, D)"
   ]
  },
  {
   "cell_type": "markdown",
   "metadata": {},
   "source": [
    "### 3. Calcular el valor de CAT, el cual depende de las siguientes relaciones: \n",
    "#### Si x > 0, CAT = (A+B)(C+D)\n",
    "#### Si x = 0, CAT= (A+B)/(C+D)\n",
    "#### Si x < 0, CAT = A+B-C+D\n",
    "#### Imprimir CAT."
   ]
  },
  {
   "cell_type": "code",
   "execution_count": 18,
   "metadata": {},
   "outputs": [
    {
     "name": "stdout",
     "output_type": "stream",
     "text": [
      "Inserta el valor de x: -1\n",
      "Inserta un numero: 1\n",
      "Inserta otro numero: 2\n",
      "Inserta otro numero: 3\n",
      "Inserta otro numero: 4\n",
      "El valor de CAT es 10.0\n"
     ]
    }
   ],
   "source": [
    "def valor_CAT(x,A,B,C,D):\n",
    "    if x > 0:\n",
    "        CAT = (A+B)*(C+D)\n",
    "    elif x == 0:\n",
    "        CAT = (A+B)/(C+D)\n",
    "    else:\n",
    "        CAT = A+B+C+D\n",
    "    return CAT\n",
    "\n",
    "x = float(input(\"Inserta el valor de x: \"))\n",
    "A = float(input(\"Inserta un numero: \"))\n",
    "B = float(input(\"Inserta otro numero: \"))\n",
    "C = float(input(\"Inserta otro numero: \"))\n",
    "D = float(input(\"Inserta otro numero: \"))\n",
    "\n",
    "print(\"El valor de CAT es {}\".format(round(valor_CAT(x,A,B,C,D),2)))"
   ]
  },
  {
   "cell_type": "code",
   "execution_count": 19,
   "metadata": {},
   "outputs": [
    {
     "name": "stdout",
     "output_type": "stream",
     "text": [
      "Inserta el valor de x: 5\n",
      "Inserta un numero: 5\n",
      "Inserta otro numero: 6\n",
      "Inserta otro numero: 5\n",
      "Inserta otro numero: 9\n",
      "El valor de CAT es 154.0\n"
     ]
    }
   ],
   "source": [
    "x = float(input(\"Inserta el valor de x: \"))\n",
    "A = float(input(\"Inserta un numero: \"))\n",
    "B = float(input(\"Inserta otro numero: \"))\n",
    "C = float(input(\"Inserta otro numero: \"))\n",
    "D = float(input(\"Inserta otro numero: \"))\n",
    "\n",
    "print(\"El valor de CAT es {}\".format(round(valor_CAT(x,A,B,C,D),2)))"
   ]
  },
  {
   "cell_type": "code",
   "execution_count": 20,
   "metadata": {},
   "outputs": [
    {
     "name": "stdout",
     "output_type": "stream",
     "text": [
      "Inserta el valor de x: 0\n",
      "Inserta un numero: 1\n",
      "Inserta otro numero: 8\n",
      "Inserta otro numero: 90\n",
      "Inserta otro numero: 14\n",
      "El valor de CAT es 0.09\n"
     ]
    }
   ],
   "source": [
    "x = float(input(\"Inserta el valor de x: \"))\n",
    "A = float(input(\"Inserta un numero: \"))\n",
    "B = float(input(\"Inserta otro numero: \"))\n",
    "C = float(input(\"Inserta otro numero: \"))\n",
    "D = float(input(\"Inserta otro numero: \"))\n",
    "\n",
    "print(\"El valor de CAT es {}\".format(round(valor_CAT(x,A,B,C,D),2)))"
   ]
  },
  {
   "cell_type": "markdown",
   "metadata": {},
   "source": [
    "### 4. Calcular el valor de X1 y X2 a partir de la ecuación general cuadrática: Imprimir los valores de X1 y X2 o los mensajes de errores respectivos.\n"
   ]
  },
  {
   "cell_type": "code",
   "execution_count": 29,
   "metadata": {},
   "outputs": [
    {
     "name": "stdout",
     "output_type": "stream",
     "text": [
      "Inserte el valor de a: 1\n",
      "Inserte el valor de b: -10\n",
      "Inserte el valor de c: 9\n",
      "La soluciones son x1 = 9.0 y x2 = 1.0 \n"
     ]
    }
   ],
   "source": [
    "import math \n",
    "a = float(input(\"Inserte el valor de a: \"))\n",
    "b = float(input(\"Inserte el valor de b: \"))\n",
    "c = float(input(\"Inserte el valor de c: \"))\n",
    "\n",
    "if a != 0:\n",
    "    #Aqui es donde hay que tener cuidado, estas son las formulas\n",
    "    x1 = (-b + math.sqrt(b**2 - 4*a*c)) / (2 * a)\n",
    "    #Esta tiene el \"-\" antes del sqrt porque es la 2da solucion\n",
    "    x2 = (-b - math.sqrt(b**2 - 4*a*c)) / (2 * a)\n",
    "    print(\"La soluciones son x1 = {} y x2 = {} \".format(x1,x2))\n",
    "else:\n",
    "    if b != 0:\n",
    "        x = -c / b\n",
    "        print(\"La solucion es x = {}\".format(x))\n",
    "    else:\n",
    "        if c!=0:\n",
    "            print(\"No tiene solucion.\")\n",
    "        else:\n",
    "            print(\"Tiene infinitas soluciones.\")"
   ]
  },
  {
   "cell_type": "markdown",
   "metadata": {},
   "source": [
    "### 5. Leer un número: si es > 100, sumarle 20; si el número es = 100, sumarle uno; si el número es < 100, restarle 20. Imprimir el número después de hacer el cálculo. "
   ]
  },
  {
   "cell_type": "code",
   "execution_count": 46,
   "metadata": {},
   "outputs": [
    {
     "name": "stdout",
     "output_type": "stream",
     "text": [
      "Inserta un numero: 12\n",
      "El resultado es  -8.0\n"
     ]
    }
   ],
   "source": [
    "def calculo(n):\n",
    "    if n > 100:\n",
    "        return n + 20\n",
    "    else:\n",
    "        if n == 100:\n",
    "            return n + 1\n",
    "        else:\n",
    "            return n - 20\n",
    "n = float(input(\"Inserta un numero: \"))        \n",
    "print(\"El resultado es \", calculo(n))"
   ]
  },
  {
   "cell_type": "code",
   "execution_count": 47,
   "metadata": {},
   "outputs": [
    {
     "name": "stdout",
     "output_type": "stream",
     "text": [
      "Inserta un numero: 100\n",
      "El resultado es  101.0\n"
     ]
    }
   ],
   "source": [
    "n = float(input(\"Inserta un numero: \"))        \n",
    "print(\"El resultado es \", calculo(n))"
   ]
  },
  {
   "cell_type": "code",
   "execution_count": 48,
   "metadata": {},
   "outputs": [
    {
     "name": "stdout",
     "output_type": "stream",
     "text": [
      "Inserta un numero: 120\n",
      "El resultado es  140.0\n"
     ]
    }
   ],
   "source": [
    "n = float(input(\"Inserta un numero: \"))        \n",
    "print(\"El resultado es \", calculo(n))"
   ]
  },
  {
   "cell_type": "markdown",
   "metadata": {},
   "source": [
    "###  6. Leer 3 números, y determinar cuál es el mayor y cuál el menor. Imprimir el mayor y el menor con sus respectivos mensajes."
   ]
  },
  {
   "cell_type": "code",
   "execution_count": 49,
   "metadata": {},
   "outputs": [
    {
     "name": "stdout",
     "output_type": "stream",
     "text": [
      "Inserte primer numero: 1\n",
      "Inserte segundo numero: 2\n",
      "Inserte tercer numero: 3\n",
      "3.0 Es el mayor\n",
      "1.0 Es el menor\n"
     ]
    }
   ],
   "source": [
    "def determinar_mayor(a,b,c):\n",
    "    if a > b and a > c:\n",
    "        print(a, \"Es el mayor\")\n",
    "    else:\n",
    "        if b > a and b > c:\n",
    "            print(b, \"Es el mayor\")\n",
    "        else:\n",
    "            print(c, \"Es el mayor\")\n",
    "            \n",
    "def determinar_menor(a,b,c):\n",
    "    if a < b and a < c:\n",
    "        print(a, \"Es el menor\")\n",
    "    else:\n",
    "        if b < a and b < c:\n",
    "            print(b, \"Es el menor\")\n",
    "        else:\n",
    "            print(c, \"Es el menor\")\n",
    "\n",
    "a = float(input(\"Inserte primer numero: \"))\n",
    "b = float(input(\"Inserte segundo numero: \"))\n",
    "c = float(input(\"Inserte tercer numero: \"))\n",
    "\n",
    "determinar_mayor(a,b,c)\n",
    "determinar_menor(a,b,c)"
   ]
  },
  {
   "cell_type": "markdown",
   "metadata": {},
   "source": [
    "### 7. Leer dos cantidades, una de monto adeudado y otra de pago de la deuda. Comparar ambas: si son iguales, el cliente no debe nada y ha pagado todas sus facturas; si el pago es mayor que la deuda, el cliente tiene un crédito a su favor y se calcula el monto de crédito; si el pago es menor que la deuda, se calcula la nueva deuda agregándole el cálculo del 3% de interés. Imprimir la información de entrada y la salida."
   ]
  },
  {
   "cell_type": "code",
   "execution_count": 52,
   "metadata": {},
   "outputs": [
    {
     "name": "stdout",
     "output_type": "stream",
     "text": [
      "Inserte el monto_adeudado: 150\n",
      "Inserte el pago de la deuda: 25\n",
      "128.75\n"
     ]
    }
   ],
   "source": [
    "def calculadora_de_deudas(monto_adeudado, pago_deuda):\n",
    "    if monto_adeudado == pago_deuda:\n",
    "        print(\"Usted no debe nada y ha pagado todas sus facturas\")\n",
    "    else:\n",
    "        if pago_deuda > monto_adeudado:\n",
    "            print(\"Usted tiene credito a su favor\")\n",
    "        else:\n",
    "            nueva_deuda = (monto_adeudado-pago_deuda)*1.03\n",
    "            print(nueva_deuda)\n",
    "\n",
    "monto_adeudado = float(input(\"Inserte el monto_adeudado: \"))\n",
    "pago_deuda = float(input(\"Inserte el pago de la deuda: \"))\n",
    "\n",
    "calculadora_de_deudas(monto_adeudado, pago_deuda)"
   ]
  },
  {
   "cell_type": "markdown",
   "metadata": {},
   "source": [
    "### 8. Leer un carácter y determinar si es una vocal o un número."
   ]
  },
  {
   "cell_type": "code",
   "execution_count": 55,
   "metadata": {},
   "outputs": [
    {
     "name": "stdout",
     "output_type": "stream",
     "text": [
      "Inserte un caracter o numero: A\n",
      "Es una vocal\n"
     ]
    }
   ],
   "source": [
    "def vocal_o_numero(caracter):\n",
    "    vocales = [\"a\",\"e\",\"i\",\"o\",\"u\",\"A\",\"E\",\"I\",\"O\",\"U\"]\n",
    "    if caracter in vocales:\n",
    "        print(\"Es una vocal\")\n",
    "    else:\n",
    "        print(\"Es un numero\")\n",
    "\n",
    "caracter = input(\"Inserte un caracter o numero: \")\n",
    "vocal_o_numero(caracter)"
   ]
  },
  {
   "cell_type": "code",
   "execution_count": 56,
   "metadata": {},
   "outputs": [
    {
     "name": "stdout",
     "output_type": "stream",
     "text": [
      "Inserte un caracter o numero: 5\n",
      "Es un numero\n"
     ]
    }
   ],
   "source": [
    "caracter = input(\"Inserte un caracter o numero: \")\n",
    "vocal_o_numero(caracter)"
   ]
  },
  {
   "cell_type": "markdown",
   "metadata": {},
   "source": [
    "###  9. Leer los datos de un empleado: nombre, horas trabajadas y sueldo por hora. Calcular el sueldo del empleado. Si las horas trabajadas no pasan de 40, el sueldo se calcula de la siguiente forma: sueldo por hora por horas trabajadas. Si el empleado trabaja más de 40 horas, su sueldo se calcula así: 40 * sueldo por hora + horas extras * sueldo por hora * 1.5."
   ]
  },
  {
   "cell_type": "code",
   "execution_count": 64,
   "metadata": {},
   "outputs": [
    {
     "name": "stdout",
     "output_type": "stream",
     "text": [
      "Inserte el nombre del empleado: Fernando\n",
      "Inserte las horas_trabajadas: 50\n",
      "Inserte el sueldo_por_hora: 100\n",
      "Fernando\n",
      "El sueldo es 60000.0\n"
     ]
    }
   ],
   "source": [
    "def calcular_sueldo(horas_trabajadas,sueldo_por_hora):\n",
    "    if horas_trabajadas <= 40:\n",
    "        sueldo = horas_trabajadas * sueldo_por_hora\n",
    "        print(\"El sueldo es {}\".format(sueldo))\n",
    "    else:\n",
    "        horas_extra = horas_trabajadas - 40\n",
    "        sueldo = 40*(sueldo_por_hora*horas_extra)*1.5\n",
    "        print(\"El sueldo es {}\".format(sueldo))\n",
    "        \n",
    "nombre = str(input(\"Inserte el nombre del empleado: \"))\n",
    "horas_trabajadas = float(input(\"Inserte las horas_trabajadas: \"))\n",
    "sueldo_por_hora = float(input(\"Inserte el sueldo_por_hora: \"))\n",
    "\n",
    "print(nombre)\n",
    "calcular_sueldo(horas_trabajadas, sueldo_por_hora)"
   ]
  },
  {
   "cell_type": "markdown",
   "metadata": {},
   "source": [
    "\n"
   ]
  }
 ],
 "metadata": {
  "kernelspec": {
   "display_name": "Python 3",
   "language": "python",
   "name": "python3"
  },
  "language_info": {
   "codemirror_mode": {
    "name": "ipython",
    "version": 3
   },
   "file_extension": ".py",
   "mimetype": "text/x-python",
   "name": "python",
   "nbconvert_exporter": "python",
   "pygments_lexer": "ipython3",
   "version": "3.7.3"
  }
 },
 "nbformat": 4,
 "nbformat_minor": 2
}
