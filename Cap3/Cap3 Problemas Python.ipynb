{
 "cells": [
  {
   "cell_type": "markdown",
   "metadata": {},
   "source": [
    "# Cap3 Problemas Python"
   ]
  },
  {
   "cell_type": "markdown",
   "metadata": {},
   "source": [
    "## Estos son problemas son del cap3 usando programación orientada a objetos"
   ]
  },
  {
   "cell_type": "code",
   "execution_count": 8,
   "metadata": {},
   "outputs": [],
   "source": [
    "import math"
   ]
  },
  {
   "cell_type": "markdown",
   "metadata": {},
   "source": [
    "### 1.  Calcular el área de un triángulo (1/2*b*h). Imprimir los datos de entrada y el resultado."
   ]
  },
  {
   "cell_type": "code",
   "execution_count": 45,
   "metadata": {},
   "outputs": [],
   "source": [
    "class triangulo():\n",
    "    def __init__(self, base, altura):\n",
    "        self.base = base\n",
    "        self.altura = altura\n",
    "        print(\"Se ha creado un triangulo con base de {} y altura {}\".format(base, altura))\n",
    "    def calcular_area(base, altura):\n",
    "        area = (1/2)*base*altura\n",
    "        print(area)"
   ]
  },
  {
   "cell_type": "code",
   "execution_count": 54,
   "metadata": {},
   "outputs": [
    {
     "name": "stdout",
     "output_type": "stream",
     "text": [
      "Se ha creado un triangulo con base de 15.0 y altura 12\n",
      "90.0\n"
     ]
    }
   ],
   "source": [
    "t = triangulo(15.,12)\n",
    "t = triangulo.calcular_area(15.,12)"
   ]
  },
  {
   "cell_type": "markdown",
   "metadata": {},
   "source": [
    "### 2. Calcular el área de un círculo dado el radio (π r) e imprimir el area"
   ]
  },
  {
   "cell_type": "code",
   "execution_count": 75,
   "metadata": {},
   "outputs": [],
   "source": [
    "class circulo():\n",
    "    def __init__(self, radio=0):\n",
    "        self.radio = radio\n",
    "        print(\"Has creado un circulo de radio {}\".format(radio))\n",
    "    def calcular_area_circulo(self):\n",
    "        area_circulo = math.pi * self.radio\n",
    "        print(area_circulo)"
   ]
  },
  {
   "cell_type": "code",
   "execution_count": 77,
   "metadata": {},
   "outputs": [
    {
     "name": "stdout",
     "output_type": "stream",
     "text": [
      "Has creado un circulo de radio 2\n",
      "6.283185307179586\n"
     ]
    }
   ],
   "source": [
    "c = circulo(2)\n",
    "c.calcular_area_circulo()"
   ]
  },
  {
   "cell_type": "markdown",
   "metadata": {},
   "source": [
    "### 3. Calcular los grados Fahrenheit (F = 9/5 ( C° + 32)) dados los centígrados. Imprimir el resultado.\n"
   ]
  },
  {
   "cell_type": "code",
   "execution_count": 83,
   "metadata": {},
   "outputs": [],
   "source": [
    "class grados_fahrenheit():\n",
    "    def __init__(self, centigrados):\n",
    "        self.centigrados = centigrados\n",
    "    def calcular_grados_fahrenheit(self):\n",
    "        grados_fahrenheit = (9/5)*(self.centigrados + 32)\n",
    "        print(grados_fahrenheit)"
   ]
  },
  {
   "cell_type": "code",
   "execution_count": 84,
   "metadata": {},
   "outputs": [
    {
     "name": "stdout",
     "output_type": "stream",
     "text": [
      "120.60000000000001\n"
     ]
    }
   ],
   "source": [
    "f = grados_fahrenheit(35)\n",
    "f.calcular_grados_fahrenheit()"
   ]
  },
  {
   "cell_type": "markdown",
   "metadata": {},
   "source": [
    "### 4. Calcular el salario de un empleado a partir de los siguientes datos de entrada: nombre del empleado, horas trabajadas, tarifa por hora, total de deducciones. "
   ]
  },
  {
   "cell_type": "code",
   "execution_count": 91,
   "metadata": {},
   "outputs": [],
   "source": [
    "class empleado():\n",
    "    def __init__(self, nombre=0, horas_trabajadas=0, tarifa_hora=0, deducciones=0):\n",
    "        self.nombre = nombre\n",
    "        self.horas_trabajadas = horas_trabajadas\n",
    "        self.tarifa_hora = tarifa_hora\n",
    "        self.deducciones = deducciones\n",
    "    def calcular_salario(self):\n",
    "        print(\"Empleado: {}\".format(self.nombre))\n",
    "        print(\"Horas trabajadas: {}\".format(self.horas_trabajadas))\n",
    "        print(\"Tarifa por hora: {}\".format(self.tarifa_hora))\n",
    "        print(\"Deducciones: {}\".format(self.deducciones))\n",
    "        salario = (self.horas_trabajadas*self.tarifa_hora)-self.deducciones\n",
    "        print(\"Tu salario es {}\".format(salario))"
   ]
  },
  {
   "cell_type": "code",
   "execution_count": 92,
   "metadata": {},
   "outputs": [
    {
     "name": "stdout",
     "output_type": "stream",
     "text": [
      "Empleado: Fernando\n",
      "Horas trabajadas: 80\n",
      "Tarifa por hora: 100\n",
      "Deducciones: 500\n",
      "Tu salario es 7500\n"
     ]
    }
   ],
   "source": [
    "fernando = empleado(\"Fernando\",80,100,500)\n",
    "fernando.calcular_salario()"
   ]
  },
  {
   "cell_type": "markdown",
   "metadata": {},
   "source": [
    "### 5. Calcular salario bruto = tarifa por horas * horas trabajadas y el salario neto = salario bruto– deducciones. Imprimir salario bruto y salario neto."
   ]
  },
  {
   "cell_type": "code",
   "execution_count": 116,
   "metadata": {},
   "outputs": [],
   "source": [
    "class salario():\n",
    "    def __init__(self,horas_trabajadas=0, tarifa_hora=50, deducciones = 500):\n",
    "        self.horas_trabajadas = horas_trabajadas\n",
    "        self.tarifa_hora = tarifa_hora\n",
    "        self.deducciones = deducciones\n",
    "    def calcular_salario_bruto(self):\n",
    "        salario_bruto = self.tarifa_hora*self.horas_trabajadas\n",
    "        return salario_bruto\n",
    "    def calcular_salario_neto(self):\n",
    "        salario_bruto = self.tarifa_hora*self.horas_trabajadas\n",
    "        salario_neto = salario_bruto - self.deducciones\n",
    "        print(salario_neto)"
   ]
  },
  {
   "cell_type": "code",
   "execution_count": 122,
   "metadata": {},
   "outputs": [
    {
     "data": {
      "text/plain": [
       "5000"
      ]
     },
     "execution_count": 122,
     "metadata": {},
     "output_type": "execute_result"
    }
   ],
   "source": [
    "A = salario(100)\n",
    "A.calcular_salario_bruto()"
   ]
  },
  {
   "cell_type": "code",
   "execution_count": 123,
   "metadata": {},
   "outputs": [
    {
     "name": "stdout",
     "output_type": "stream",
     "text": [
      "4500\n"
     ]
    }
   ],
   "source": [
    "A.calcular_salario_neto()"
   ]
  },
  {
   "cell_type": "markdown",
   "metadata": {},
   "source": [
    "## Solución general"
   ]
  },
  {
   "cell_type": "code",
   "execution_count": 135,
   "metadata": {},
   "outputs": [
    {
     "name": "stdout",
     "output_type": "stream",
     "text": [
      "4.5\n"
     ]
    }
   ],
   "source": [
    "class Promedio():\n",
    "    def __init__(self,listaDeNotas):\n",
    "        self.listaDeNotas = listaDeNotas\n",
    "    def CalcularPromedio(self):\n",
    "        sumaDeNotas = 0.0\n",
    "        for nota in self.listaDeNotas:\n",
    "            sumaDeNotas += nota\n",
    "        prom = sumaDeNotas/len(self.listaDeNotas)\n",
    "        return prom\n",
    "#(n1+n2+n3...etc)/(numero de notas)\n",
    "pro = Promedio([4,5])\n",
    "print(pro.CalcularPromedio())"
   ]
  },
  {
   "cell_type": "markdown",
   "metadata": {},
   "source": [
    "### 5. Leer el nombre del estudiante y tres notas, calcular e imprimir la nota promedio."
   ]
  },
  {
   "cell_type": "code",
   "execution_count": 132,
   "metadata": {},
   "outputs": [],
   "source": [
    "class estudiante():\n",
    "    def __init__(self, nota1=0, nota2=0, nota3=0):\n",
    "        self.nota1 = nota1\n",
    "        self.nota2 = nota2\n",
    "        self.nota3 = nota3\n",
    "    def calcular_nota_promedio(self):\n",
    "        nota_promedio = (self.nota1+self.nota2+self.nota3)/3\n",
    "        return nota_promedio"
   ]
  },
  {
   "cell_type": "code",
   "execution_count": 133,
   "metadata": {},
   "outputs": [
    {
     "data": {
      "text/plain": [
       "50.0"
      ]
     },
     "execution_count": 133,
     "metadata": {},
     "output_type": "execute_result"
    }
   ],
   "source": [
    "Asley = estudiante(100,20,30)\n",
    "Asley.calcular_nota_promedio()"
   ]
  },
  {
   "cell_type": "markdown",
   "metadata": {},
   "source": [
    "### 6. Leer dos números, calcular e imprimir el valor de suma, resta, producto y su división."
   ]
  },
  {
   "cell_type": "code",
   "execution_count": 139,
   "metadata": {},
   "outputs": [
    {
     "name": "stdout",
     "output_type": "stream",
     "text": [
      "3\n",
      "-1\n",
      "2\n",
      "0.5\n"
     ]
    }
   ],
   "source": [
    "class propiedades():\n",
    "    def __init__(self,numero1=0, numero2=0):\n",
    "        self.numero1 = numero1\n",
    "        self.numero2 = numero2\n",
    "    def suma(self):\n",
    "        resultado_suma = self.numero1 + self.numero2\n",
    "        print(resultado_suma)\n",
    "    def resta(self):\n",
    "        resultado_resta = self.numero1 - self.numero2\n",
    "        print(resultado_resta)\n",
    "    def producto(self):\n",
    "        resultado_producto = self.numero1 * self.numero2\n",
    "        print(resultado_producto)\n",
    "    def division(self):\n",
    "        resultado_division = self.numero1/self.numero2\n",
    "        print(resultado_division)\n",
    "        \n",
    "numeros = propiedades(1,2)\n",
    "numeros.suma()\n",
    "numeros.resta()\n",
    "numeros.producto()\n",
    "numeros.division()"
   ]
  },
  {
   "cell_type": "markdown",
   "metadata": {},
   "source": [
    "###  7. Leer el largo, ancho y altura de una habitación. Calcular e imprimir cuántos metros cuadrados se requieren comprar de alfombra (área =largo × ancho), y cuántos metros cuadrados de papel se requieren para tapizar la pared de la habitación (P = 2 * largo * ancho * altura)."
   ]
  },
  {
   "cell_type": "code",
   "execution_count": 1,
   "metadata": {},
   "outputs": [
    {
     "name": "stdout",
     "output_type": "stream",
     "text": [
      "200\n",
      "120\n"
     ]
    }
   ],
   "source": [
    "class habitacion():\n",
    "    def __init__(self, largo, ancho, altura):\n",
    "        self.largo = largo\n",
    "        self.ancho = ancho\n",
    "        self.altura = altura\n",
    "    def calcular_alfombra(self):\n",
    "        alfombra = self.largo*self.ancho\n",
    "        print(alfombra)\n",
    "    def calcular_papel(self):\n",
    "        papel = 2*(self.largo+self.ancho+self.altura)\n",
    "        print(papel)\n",
    "sala = habitacion(10,20,30)\n",
    "sala.calcular_alfombra()\n",
    "sala.calcular_papel()"
   ]
  },
  {
   "cell_type": "markdown",
   "metadata": {},
   "source": [
    "### 8. Calcular e imprimir el precio de venta de un artículo. Se tienen los datos descripción del artículo y costo de producción. El precio de ventas se calcula añadiendo al costo el 12% como utilidad y el 15% de impuesto."
   ]
  },
  {
   "cell_type": "code",
   "execution_count": 5,
   "metadata": {},
   "outputs": [
    {
     "name": "stdout",
     "output_type": "stream",
     "text": [
      "Es una naranja, con un costo de 25.4\n"
     ]
    }
   ],
   "source": [
    "class articulo():\n",
    "    def __init__(self, descripcion, costo_produccion):\n",
    "        self.descripcion = descripcion\n",
    "        self.costo_produccion = costo_produccion\n",
    "    def calcular_precio(self):\n",
    "        utilidad = self.costo_produccion * 0.12\n",
    "        impuesto = self.costo_produccion * 0.15\n",
    "        precio = self.costo_produccion + utilidad + impuesto\n",
    "        print(\"Es una {}, con un costo de {}\".format(self.descripcion, precio))\n",
    "naranja = articulo(\"naranja\",20)\n",
    "naranja.calcular_precio()"
   ]
  },
  {
   "cell_type": "markdown",
   "metadata": {},
   "source": [
    "### 9. Una niña deja caer su cartera desde el último piso de la torre Sears (1,454 pies de altura). Cree un algoritmo que calcule la velocidad de impacto al llegar al suelo. Utilizar la fórmula v = √ 2gh, donde h es la altura de la torre, g es la gravedad de 32 pies/seg 2"
   ]
  },
  {
   "cell_type": "code",
   "execution_count": 12,
   "metadata": {},
   "outputs": [],
   "source": [
    "class velocidad():\n",
    "    def __init__(self, altura=1454, gravedad=32):\n",
    "        self.altura = altura\n",
    "        self.gravedad = gravedad\n",
    "    def algoritmo(self):\n",
    "        velocidad = math.sqrt(2*self.gravedad*self.altura)\n",
    "        print(round(velocidad,2))"
   ]
  },
  {
   "cell_type": "code",
   "execution_count": 13,
   "metadata": {},
   "outputs": [
    {
     "name": "stdout",
     "output_type": "stream",
     "text": [
      "305.05\n"
     ]
    }
   ],
   "source": [
    "cartera = velocidad()\n",
    "cartera.algoritmo()"
   ]
  },
  {
   "cell_type": "markdown",
   "metadata": {},
   "source": [
    "### 10. Elabore un algoritmo que lea una cantidad de horas e imprima su equivalencia en minutos, segundos y días."
   ]
  },
  {
   "cell_type": "code",
   "execution_count": 14,
   "metadata": {},
   "outputs": [],
   "source": [
    "class horas():\n",
    "    def __init__(self, horas):\n",
    "        self.horas = horas\n",
    "    def calcular_equivalencias(self):\n",
    "        minutos = self.horas * 60\n",
    "        segundos = self.horas * 3600\n",
    "        dias = self.horas/24\n",
    "        print(\"Las {} horas insertadas son equivalentes a {} minutos {} segundos y {} dias\".format(self.horas, minutos, segundos, dias))"
   ]
  },
  {
   "cell_type": "code",
   "execution_count": 16,
   "metadata": {},
   "outputs": [
    {
     "name": "stdout",
     "output_type": "stream",
     "text": [
      "Las 6 horas insertadas son equivalentes a 360 minutos 21600 segundos y 0.25 dias\n"
     ]
    }
   ],
   "source": [
    "a = horas(6)\n",
    "a.calcular_equivalencias()"
   ]
  },
  {
   "cell_type": "code",
   "execution_count": null,
   "metadata": {},
   "outputs": [],
   "source": []
  }
 ],
 "metadata": {
  "kernelspec": {
   "display_name": "Python 3",
   "language": "python",
   "name": "python3"
  },
  "language_info": {
   "codemirror_mode": {
    "name": "ipython",
    "version": 3
   },
   "file_extension": ".py",
   "mimetype": "text/x-python",
   "name": "python",
   "nbconvert_exporter": "python",
   "pygments_lexer": "ipython3",
   "version": "3.6.5"
  }
 },
 "nbformat": 4,
 "nbformat_minor": 2
}
