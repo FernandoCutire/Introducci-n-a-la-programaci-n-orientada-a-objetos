{
 "cells": [
  {
   "cell_type": "markdown",
   "metadata": {},
   "source": [
    "# Capitulo 6 Herencia"
   ]
  },
  {
   "cell_type": "markdown",
   "metadata": {},
   "source": [
    "### 1.  Una empresa de ventas y servicios tiene empleados que forman parte de un equipo de desarrollo. Estos empleados pueden ser contratados, cobrando por horas, o bien como trabajadores de planta con un sueldo fijo. Desarrolle un programa que cree objetos de empleados por hora y objetos de empleados de planta; lea datos y presente el cálculo del sueldo del empleado."
   ]
  },
  {
   "cell_type": "code",
   "execution_count": 1,
   "metadata": {},
   "outputs": [],
   "source": [
    "class Empleados:\n",
    "    def __init__(self, sueldo):\n",
    "        self.sueldo = sueldo\n",
    "        \n",
    "class E_contrato(Empleados):\n",
    "    sueldo = 0\n",
    "    def __str__(self):\n",
    "        return \"\"\" \\\n",
    "      Tipo_de_empleado:\\tPor contrato\n",
    "        Sueldo por hora\\t\\t{} \"\"\".format(self.sueldo)\n",
    "    \n",
    "class E_planta(Empleados):\n",
    "    sueldo = 0\n",
    "    def __str__(self):\n",
    "        return \"\"\" \\\n",
    "      Tipo_de_empleado:\\tDe planta\n",
    "        Sueldo fijo\\t\\t{} \"\"\".format(self.sueldo)"
   ]
  },
  {
   "cell_type": "code",
   "execution_count": 2,
   "metadata": {},
   "outputs": [],
   "source": [
    "Fernando = E_planta(sueldo = 100000)"
   ]
  },
  {
   "cell_type": "code",
   "execution_count": 3,
   "metadata": {},
   "outputs": [
    {
     "name": "stdout",
     "output_type": "stream",
     "text": [
      "       Tipo_de_empleado:\tDe planta\n",
      "        Sueldo fijo\t\t100000 \n"
     ]
    }
   ],
   "source": [
    "print(Fernando)"
   ]
  },
  {
   "cell_type": "code",
   "execution_count": 4,
   "metadata": {},
   "outputs": [],
   "source": [
    "Eduardo = E_contrato(sueldo = 500)"
   ]
  },
  {
   "cell_type": "code",
   "execution_count": 5,
   "metadata": {},
   "outputs": [
    {
     "name": "stdout",
     "output_type": "stream",
     "text": [
      "       Tipo_de_empleado:\tPor contrato\n",
      "        Sueldo por hora\t\t500 \n"
     ]
    }
   ],
   "source": [
    "print(Eduardo)"
   ]
  },
  {
   "cell_type": "markdown",
   "metadata": {},
   "source": [
    "### 2.  Una universidad está formada por un conjunto de departamentos a los que están asignados los profesores y estudiantes. Los profesores pueden ser titulares o asociados; los alumnos que asisten a uno o más cursos pueden ser de dos tipos: de curso regular o de maestría. Desarrolle un programa que cree objetos de profesores y objetos de estudiantes; lea datos y presente la información."
   ]
  },
  {
   "cell_type": "code",
   "execution_count": 21,
   "metadata": {},
   "outputs": [],
   "source": [
    "class Universidad:\n",
    "    def __init__(self, departamento):\n",
    "        self.departamento = departamento\n",
    "\n",
    "class P_titulares(Universidad):\n",
    "    def __str__(self):\n",
    "        return \"\"\"\\\n",
    "        Departamento:\\t\\t{}\n",
    "        Tipo de profesor:\\tProfesor titular\n",
    "        \"\"\".format(self.departamento)\n",
    "\n",
    "class P_asociados(Universidad):\n",
    "     def __str__(self):\n",
    "        return \"\"\"\\\n",
    "        Departamento:\\t\\t{}\n",
    "        Tipo de profesor:\\tProfesor asociado\n",
    "        \"\"\".format(self.departamento)\n",
    "\n",
    "\n",
    "class E_regular(Universidad):\n",
    "    def __str__(self):\n",
    "        return \"\"\"\\\n",
    "        Departamento:\\t\\t{}\n",
    "        Tipo de estudiante:\\tEstudiante regular\n",
    "        \"\"\".format(self.departamento)\n",
    "\n",
    "class E_maestria(Universidad):\n",
    "    def __str__(self):\n",
    "        return \"\"\"\\\n",
    "        Departamento:\\t\\t{}\n",
    "        Tipo de estudiante:\\tEstudiante de maestría\n",
    "        \"\"\".format(self.departamento)"
   ]
  },
  {
   "cell_type": "code",
   "execution_count": 24,
   "metadata": {},
   "outputs": [
    {
     "name": "stdout",
     "output_type": "stream",
     "text": [
      "        Departamento:\t\tCalculo\n",
      "        Tipo de estudiante:\tEstudiante regular\n",
      "        \n"
     ]
    }
   ],
   "source": [
    "Cutirin = E_regular('Calculo')\n",
    "print(Cutirin)"
   ]
  },
  {
   "cell_type": "code",
   "execution_count": 25,
   "metadata": {},
   "outputs": [
    {
     "name": "stdout",
     "output_type": "stream",
     "text": [
      "        Departamento:\t\tCalculito\n",
      "        Tipo de profesor:\tProfesor titular\n",
      "        \n"
     ]
    }
   ],
   "source": [
    "Herman = P_titulares(\"Calculito\")\n",
    "print(Herman)"
   ]
  },
  {
   "cell_type": "markdown",
   "metadata": {},
   "source": [
    "### 3.  Una empresa de equipo pesado vende bombas, intercambiadores de calor,tanques, etcétera. Cada equipo lleva registrado nombre, fabricante, peso y costo. La información requerida para las bombas es presión de succión,presión de descarga y medida de flujo. Dependiendo del tipo de bomba,necesitamos conocer:•  Bomba centrífuga: diámetro del impulsor, número de hojas y eje derotación.•  Bomba de diafragma: material del diafragma.•  Bomba de pistón: longitud del pistón, diámetro, número de cilindros.La información requerida para los tanques es: volumen y presión. Depen-diendo del tipo de tanque, necesitamos conocer:•  Tanque esférico: diámetro.•  Tanque a presión: diámetro y altura.Haga un programa que establezca la herencia, declare objetos, asigne infor-mación e imprima la información."
   ]
  },
  {
   "cell_type": "code",
   "execution_count": 59,
   "metadata": {},
   "outputs": [],
   "source": [
    "class Equipo_pesado:\n",
    "    def __init__(self, nombre, fabricante, peso, costo):\n",
    "        self.nombre = nombre\n",
    "        self.fabricante = fabricante\n",
    "        self.peso = peso\n",
    "        self.costo = costo\n",
    "        \n",
    "# Aqui estan las bombas\n",
    "class Bomba(Equipo_pesado):\n",
    "    #presión de succión,presión de descarga y medida de flujo\n",
    "    presion_de_succion = 0\n",
    "    presion_de_descarga = 0\n",
    "    medida_de_flujo = \"\"\n",
    "    \n",
    "    def __str__(self):\n",
    "        return \"\"\"\\\n",
    "        Nombre:\\t\\t{}\n",
    "        Fabricante:\\t\\t{}\n",
    "        Peso:\\t\\t{} kg\n",
    "        Costo:\\t\\t{} $\n",
    "        Presión de succión:\\t{} Pa\n",
    "        Presión de descarga:\\t{} Pa\n",
    "        Medida de flujo:\\t{}\"\"\".format(self.nombre, self.fabricante, self.peso, self.costo, \n",
    "                                       self.presion_de_succion, self.presion_de_descarga,\n",
    "                                      self.medida_de_flujo)\n",
    "\n",
    "class B_centrifuga(Bomba):\n",
    "    #diámetro del impulsor, número de hojas y eje derotación.\n",
    "    diametro_del_impulsor = 0\n",
    "    numero_de_hojas = 0\n",
    "    eje_de_rotacion = \"\"\n",
    "    \n",
    "    def __str__(self):\n",
    "        return \"\"\"\\\n",
    "        Nombre:\\t\\t\\t{}\n",
    "        Fabricante:\\t\\t{}\n",
    "        Peso:\\t\\t\\t{} kg\n",
    "        Costo:\\t\\t\\t{} $\n",
    "        Presión de succión:\\t{} Pa\n",
    "        Presión de descarga:\\t{} Pa\n",
    "        Medida de flujo:\\t{}\n",
    "        Diámetro del impulsor:\\t{} m\n",
    "        Número de hojas:\\t{} \n",
    "        Eje de rotación:\\t{}\"\"\".format(self.nombre, self.fabricante, self.peso, self.costo, \n",
    "                                       self.presion_de_succion, self.presion_de_descarga,\n",
    "                                      self.medida_de_flujo, self.diametro_del_impulsor, \n",
    "                                      self.numero_de_hojas, self.eje_de_rotacion)\n",
    "\n",
    "class B_diafragma(Bomba):\n",
    "    #material del diafragma\n",
    "    material_del_diafragrama = \"\"\n",
    "    def __str__(self):\n",
    "        return \"\"\"\\\n",
    "        Nombre:\\t\\t\\t{}\n",
    "        Fabricante:\\t\\t{}\n",
    "        Peso:\\t\\t\\t{} kg\n",
    "        Costo:\\t\\t\\t{} $\n",
    "        Presión de succión:\\t{} Pa\n",
    "        Presión de descarga:\\t{} Pa\n",
    "        Medida de flujo:\\t{}\n",
    "        Material del diafragma\\t{}\"\"\".format(self.nombre, self.fabricante, self.peso, self.costo, \n",
    "                                       self.presion_de_succion, self.presion_de_descarga,\n",
    "                                      self.medida_de_flujo, self.material_del_diafragrama)\n",
    "    \n",
    "class B_piston(Bomba):\n",
    "    #longitud del pistón, diámetro, número de cilindros\n",
    "    longitud_del_piston = 0\n",
    "    diametro = 0\n",
    "    numero_de_cilindros = 0\n",
    "    \n",
    "    def __str__(self):\n",
    "        return \"\"\"\\\n",
    "        Nombre:\\t\\t\\t{}\n",
    "        Fabricante:\\t\\t{}\n",
    "        Peso:\\t\\t\\t{} kg\n",
    "        Costo:\\t\\t\\t{} $\n",
    "        Presión de succión:\\t{} Pa\n",
    "        Presión de descarga:\\t{} Pa\n",
    "        Medida de flujo:\\t{}\n",
    "        Longitud del pistón:\\t{} m\n",
    "        Diámetro:\\t\\t{} cm\n",
    "        Número de cilindros:\\t{}\"\"\".format(self.nombre, self.fabricante, self.peso, self.costo, \n",
    "                                       self.presion_de_succion, self.presion_de_descarga,\n",
    "                                      self.medida_de_flujo, self.longitud_del_piston, self.diametro,\n",
    "                                        self.numero_de_cilindros)\n",
    "\n",
    "#Aqui estan los tanques\n",
    "class Tanques(Equipo_pesado):\n",
    "    #volumen y presión\n",
    "    volumen = 0\n",
    "    presion = 0\n",
    "    def __str__(self):\n",
    "        return \"\"\"\\\n",
    "        Nombre:\\t\\t{}\n",
    "        Fabricante:\\t\\t{}\n",
    "        Peso:\\t\\t{} kg\n",
    "        Costo:\\t\\t{} $\n",
    "        Volumen:\\t\\t{} cm cúbicos\n",
    "        Presión:\\t\\t{} Pa\"\"\".format(self.nombre, self.fabricante, self.peso, self.costo, \n",
    "                                       self.volumen, self.presion)\n",
    "    \n",
    "    \n",
    "    \n",
    "class T_esferico(Tanques):\n",
    "    #diámetro\n",
    "    diametro = 0\n",
    "    def __str__(self):\n",
    "        return \"\"\"\\\n",
    "        Nombre:\\t\\t\\t{}\n",
    "        Fabricante:\\t\\t{}\n",
    "        Peso:\\t\\t\\t{} kg\n",
    "        Costo:\\t\\t\\t{} $\n",
    "        Volumen:\\t\\t{} cm cúbicos\n",
    "        Presión:\\t\\t{} Pa\n",
    "        Diámetro:\\t\\t{} cm\"\"\".format(self.nombre, self.fabricante, self.peso, self.costo, \n",
    "                                        self.volumen, self.presion, self.diametro)\n",
    "    \n",
    "\n",
    "class T_presion(Tanques):\n",
    "    #diámetro y altura.\n",
    "    diametro = 0\n",
    "    altura = 0\n",
    "    def __str__(self):\n",
    "        return \"\"\"\\\n",
    "        Nombre:\\t\\t\\t{}\n",
    "        Fabricante:\\t\\t{}\n",
    "        Peso:\\t\\t\\t{} kg\n",
    "        Costo:\\t\\t\\t{} $\n",
    "        Volumen:\\t\\t{} cm cúbicos\n",
    "        Presión:\\t\\t{} Pa\n",
    "        Diámetro:\\t\\t{} cm\n",
    "        Altura:\\t\\t\\t{} m\"\"\".format(self.nombre, self.fabricante, self.peso, self.costo, \n",
    "                                       self.volumen, self.presion, self.diametro, self.altura)"
   ]
  },
  {
   "cell_type": "code",
   "execution_count": 60,
   "metadata": {},
   "outputs": [
    {
     "name": "stdout",
     "output_type": "stream",
     "text": [
      "        Nombre:\t\t\tBomba diafragma 1217\n",
      "        Fabricante:\t\tAcme\n",
      "        Peso:\t\t\t89 kg\n",
      "        Costo:\t\t\t100 $\n",
      "        Presión de succión:\t90 Pa\n",
      "        Presión de descarga:\t45 Pa\n",
      "        Medida de flujo:\tVenturímetros\n",
      "        Material del diafragma\tAcero\n"
     ]
    }
   ],
   "source": [
    "b1 = B_diafragma('Bomba diafragma 1217','Acme',89,100)\n",
    "b1.presion_de_succion = 90\n",
    "b1.presion_de_descarga = 45\n",
    "b1.medida_de_flujo = 'Venturímetros'\n",
    "b1.material_del_diafragrama = 'Acero'\n",
    "print(b1)"
   ]
  },
  {
   "cell_type": "code",
   "execution_count": 58,
   "metadata": {},
   "outputs": [
    {
     "name": "stdout",
     "output_type": "stream",
     "text": [
      "        Nombre:\t\t\tBomba centrifuga 8767\n",
      "        Fabricante:\t\tAcme\n",
      "        Peso:\t\t\t45 kg\n",
      "        Costo:\t\t\t350 $\n",
      "        Presión de succión:\t90 Pa\n",
      "        Presión de descarga:\t45 Pa\n",
      "        Medida de flujo:\tVenturímetros\n",
      "        Diámetro del impulsor:\t15 m\n",
      "        Número de hojas:\t10 \n",
      "        Eje de rotación:\tHorizontal\n"
     ]
    }
   ],
   "source": [
    "b2 = B_centrifuga('Bomba centrifuga 8767','Acme',45,350)\n",
    "b2.presion_de_succion = 90\n",
    "b2.presion_de_descarga = 45\n",
    "b2.medida_de_flujo = 'Venturímetros'\n",
    "b2.diametro_del_impulsor = 15 \n",
    "b2.numero_de_hojas = 10\n",
    "b2.eje_de_rotacion = 'Horizontal'\n",
    "\n",
    "print(b2)"
   ]
  },
  {
   "cell_type": "code",
   "execution_count": 54,
   "metadata": {},
   "outputs": [
    {
     "name": "stdout",
     "output_type": "stream",
     "text": [
      "        Nombre:\t\t\tBomba pistón 9780\n",
      "        Fabricante:\t\tMarvel\n",
      "        Peso:\t\t\t100 kg\n",
      "        Costo:\t\t\t45 $\n",
      "        Presión de succión:\t150 Pa\n",
      "        Presión de descarga:\t90 Pa\n",
      "        Medida de flujo:\tToberas\n",
      "        Longitud del pistón:\t5 m\n",
      "        Diámetro:\t\t68 cm\n",
      "        Número de cilindros:\t45\n"
     ]
    }
   ],
   "source": [
    "b3 = B_piston('Bomba pistón 9780','Marvel',100,45)\n",
    "b3.presion_de_succion = 150\n",
    "b3.presion_de_descarga = 90\n",
    "b3.medida_de_flujo = 'Toberas'\n",
    "b3.longitud_del_piston = 5 \n",
    "b3.diametro = 68\n",
    "b3.numero_de_cilindros = 45\n",
    "\n",
    "print(b3)"
   ]
  },
  {
   "cell_type": "code",
   "execution_count": 61,
   "metadata": {},
   "outputs": [
    {
     "name": "stdout",
     "output_type": "stream",
     "text": [
      "        Nombre:\t\t\tTanque esferico 1580\n",
      "        Fabricante:\t\tShield\n",
      "        Peso:\t\t\t90 kg\n",
      "        Costo:\t\t\t45 $\n",
      "        Volumen:\t\t150 cm cúbicos\n",
      "        Presión:\t\t250 Pa\n",
      "        Diámetro:\t\t15 cm\n"
     ]
    }
   ],
   "source": [
    "t1 = T_esferico('Tanque esferico 1580', 'Shield', 90, 45)\n",
    "t1.volumen = 150\n",
    "t1.presion = 250\n",
    "t1.diametro = 15\n",
    "\n",
    "print(t1)"
   ]
  },
  {
   "cell_type": "code",
   "execution_count": 30,
   "metadata": {},
   "outputs": [
    {
     "name": "stdout",
     "output_type": "stream",
     "text": [
      "        Nombre:\t\t\tTanque presion 8970\n",
      "        Fabricante:\t\tACM\n",
      "        Peso:\t\t\t79 kg\n",
      "        Costo:\t\t\t90 $\n",
      "        Volumen:\t\t78 cm cúbicos\n",
      "        Presión:\t\t45 Pa\n",
      "        Diámetro:\t\t20 cm\n",
      "        Altura:\t\t\t5 m\n"
     ]
    }
   ],
   "source": [
    "t2 = T_presion('Tanque presion 8970', 'ACM', 79, 90)\n",
    "t2.volumen = 78\n",
    "t2.presion = 45\n",
    "t2.diametro = 20\n",
    "t2.altura = 5\n",
    "\n",
    "print(t2)"
   ]
  },
  {
   "cell_type": "markdown",
   "metadata": {},
   "source": [
    "### 4.  En 2003, cuatro autores de libros de computadoras crearon una base de datos que almacenaba los precios base de 3 libros (Programación,C yJava). Los precios de los libros eran informados a los clientes por medio de un método: se calculan multiplicando el precio de cada libro por el 15%. En el 2004, publican un libro, Programación orientada a objetos, y se desea que se incluya su precio base y su respectivo cálculo del precio al cliente en la base de datos, pero sin alterar lo que ya existe."
   ]
  },
  {
   "cell_type": "code",
   "execution_count": 99,
   "metadata": {},
   "outputs": [],
   "source": [
    "class Libros:\n",
    "    def __init__(self, titulo, precio):\n",
    "        self.titulo = titulo\n",
    "        self.precio = precio\n",
    "    \n",
    "    def __str__(self):\n",
    "        return \"\"\"\\\n",
    "        Libro:\\t\\t{}\n",
    "        Precio:\\t\\t{}\"\"\".format(self.titulo, self.precio)\n",
    "    "
   ]
  },
  {
   "cell_type": "code",
   "execution_count": 100,
   "metadata": {},
   "outputs": [
    {
     "name": "stdout",
     "output_type": "stream",
     "text": [
      "        Libro:\t\tC\n",
      "        Precio:\t\t150\n"
     ]
    }
   ],
   "source": [
    "p = Libros('C',150)\n",
    "print(p)"
   ]
  },
  {
   "cell_type": "code",
   "execution_count": 1,
   "metadata": {},
   "outputs": [
    {
     "name": "stdout",
     "output_type": "stream",
     "text": [
      "Libro = Java\n",
      "Precio = 1.15\n"
     ]
    }
   ],
   "source": [
    "class Libros:\n",
    "    global _libro\n",
    "    global _precio\n",
    "    _libro = ['Programacion','C','Java']\n",
    "    _precio = ['10','5','1']\n",
    "\n",
    "    def CalcPrecio(self, nomb):\n",
    "        for x in range(len(_libro)):\n",
    "            if(_libro[x] == nomb):\n",
    "                print(\"Libro = \" + _libro[x])\n",
    "                print(\"Precio = \" + str( float(_precio[x]) + float(_precio[x]) * 0.15))\n",
    "\n",
    "class Programacion(Libros):\n",
    "    l_poo = 'Programacion Orientada a Objetos'\n",
    "    _libro.append(l_poo)\n",
    "    p_poo = '20'\n",
    "    _precio.append(p_poo)\n",
    "    \n",
    "    \n",
    "                \n",
    "                \n",
    "l = Libros()\n",
    "l.CalcPrecio('Java')"
   ]
  },
  {
   "cell_type": "code",
   "execution_count": 2,
   "metadata": {},
   "outputs": [
    {
     "name": "stdout",
     "output_type": "stream",
     "text": [
      "Libro = Programacion Orientada a Objetos\n",
      "Precio = 23.0\n"
     ]
    }
   ],
   "source": [
    "h = Programacion()\n",
    "h.CalcPrecio('Programacion Orientada a Objetos')"
   ]
  }
 ],
 "metadata": {
  "kernelspec": {
   "display_name": "Python 3",
   "language": "python",
   "name": "python3"
  },
  "language_info": {
   "codemirror_mode": {
    "name": "ipython",
    "version": 3
   },
   "file_extension": ".py",
   "mimetype": "text/x-python",
   "name": "python",
   "nbconvert_exporter": "python",
   "pygments_lexer": "ipython3",
   "version": "3.7.3"
  }
 },
 "nbformat": 4,
 "nbformat_minor": 2
}
